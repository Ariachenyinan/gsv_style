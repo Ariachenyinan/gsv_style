{
 "cells": [
  {
   "cell_type": "markdown",
   "metadata": {
    "id": "2eA5IsQvrN38"
   },
   "source": [
    "# 设置"
   ]
  },
  {
   "cell_type": "code",
   "execution_count": null,
   "metadata": {
    "colab": {
     "base_uri": "https://localhost:8080/"
    },
    "executionInfo": {
     "elapsed": 23400,
     "status": "ok",
     "timestamp": 1685410246195,
     "user": {
      "displayName": "Aria C",
      "userId": "13309219771091978768"
     },
     "user_tz": -480
    },
    "id": "vZ7c72eerPX-",
    "outputId": "a5caea62-4d64-4c0a-f0aa-180edc27b870"
   },
   "outputs": [
    {
     "name": "stdout",
     "output_type": "stream",
     "text": [
      "Mounted at /content/gdrive\n"
     ]
    }
   ],
   "source": [
    "# Colab specific setup\n",
    "try:\n",
    "  from google.colab import drive\n",
    "  \n",
    "except Exception:\n",
    "  # Local setup\n",
    "  rootpath = \".\"\n",
    "\n",
    "else:\n",
    "  drive.mount('/content/gdrive')\n",
    "  rootpath = '/content/gdrive/MyDrive/T_ML/0-try1-13styles'"
   ]
  },
  {
   "cell_type": "code",
   "execution_count": null,
   "metadata": {
    "id": "GliEkqdGrYEk"
   },
   "outputs": [],
   "source": [
    "# 更改当前工作目录为Google Drive中的文件夹A\n",
    "\n",
    "import os\n",
    "os.chdir(rootpath)"
   ]
  },
  {
   "cell_type": "code",
   "execution_count": null,
   "metadata": {
    "colab": {
     "base_uri": "https://localhost:8080/"
    },
    "executionInfo": {
     "elapsed": 40340,
     "status": "ok",
     "timestamp": 1684677640842,
     "user": {
      "displayName": "Aria C",
      "userId": "13309219771091978768"
     },
     "user_tz": -480
    },
    "id": "7WwhnSavm-Qh",
    "outputId": "b6044a57-acab-4d6d-8005-a35848a04248"
   },
   "outputs": [
    {
     "name": "stdout",
     "output_type": "stream",
     "text": [
      "3-Palladian architecture-226 (1).jpg\n",
      "3-Palladian architecture-319 (1).jpg\n",
      "3-Palladian architecture-318 (1).jpg\n",
      "3-Palladian architecture-320 (1).jpg\n",
      "3-Palladian architecture-32 (1).jpg\n",
      "3-Palladian architecture-317 (1).jpg\n",
      "3-Palladian architecture-321 (1).jpg\n",
      "3-Palladian architecture-316 (1).jpg\n"
     ]
    }
   ],
   "source": [
    "'''#检查文件是否有重复用\n",
    "import os\n",
    "\n",
    "# 定义文件夹路径\n",
    "folder_path = '/content/gdrive/MyDrive/T_ML/0-try1-13styles/nyc-styles-all'\n",
    "\n",
    "# 遍历文件夹中的所有文件\n",
    "for file_name in os.listdir(folder_path):\n",
    "    # 检查文件名是否包含“(1)”\n",
    "    if \"(1)\" in file_name:\n",
    "        # 打印文件名\n",
    "        print(file_name)\n",
    "'''"
   ]
  },
  {
   "cell_type": "code",
   "execution_count": null,
   "metadata": {
    "id": "phXFcWAqnOzV"
   },
   "outputs": [],
   "source": [
    "'''##检查文件数目用\n",
    "#删除由于上传导致重复的图片\n",
    "\n",
    "# 遍历文件夹中的所有文件\n",
    "for file_name in os.listdir(folder_path):\n",
    "    # 检查文件名是否包含“(1)”\n",
    "    if \"(1)\" in file_name:\n",
    "        # 构建文件的完整路径\n",
    "        file_path = os.path.join(folder_path, file_name)\n",
    "        \n",
    "        # 删除文件\n",
    "        os.remove(file_path)'''\n"
   ]
  },
  {
   "cell_type": "code",
   "execution_count": null,
   "metadata": {
    "colab": {
     "base_uri": "https://localhost:8080/"
    },
    "executionInfo": {
     "elapsed": 36367,
     "status": "ok",
     "timestamp": 1684685165456,
     "user": {
      "displayName": "Aria C",
      "userId": "13309219771091978768"
     },
     "user_tz": -480
    },
    "id": "U59fzyrCD6KT",
    "outputId": "3c9e5813-f917-4479-c9db-0583340c8788"
   },
   "outputs": [
    {
     "name": "stdout",
     "output_type": "stream",
     "text": [
      "文件夹中的文件数量: 5311\n"
     ]
    }
   ],
   "source": [
    "#查看文件数目\n",
    "\n",
    "# 指定目标文件夹的路径\n",
    "folder_path = '/content/gdrive/MyDrive/T_ML/0-try1-13styles/nyc-styles-all'\n",
    "\n",
    "# 获取文件夹中的文件列表\n",
    "files = os.listdir(folder_path)\n",
    "\n",
    "# 输出文件数量\n",
    "print(f\"文件夹中的文件数量: {len(files)}\")\n",
    "\n",
    "#0-Colonial architecture 480 480\n",
    "#1-Georgian architecture 381 231 381\n",
    "#2-Greek Revival architecture 499 499\n",
    "#3-Palladian architecture 343 343\n",
    "#4-American craftsman style 359 359\n",
    "#5-Gothic architecture    328  328\n",
    "#6-Chicago school architecture 263 263\n",
    "#7-Beaux-Arts architecture    424 424\n",
    "#8-Art Nouveau architecture   606 606\n",
    "#9-Art Deco architecture     566 566\n",
    "#10-Brutalism           339 339\n",
    "#11-International style      412 412\n",
    "#12-Postmodern architecture    311 311"
   ]
  },
  {
   "cell_type": "code",
   "execution_count": null,
   "metadata": {
    "id": "vu2V3dLYraQd"
   },
   "outputs": [],
   "source": [
    "!pip install torch torchvision\n",
    "!pip install geopandas\n",
    "!pip install seaborn"
   ]
  },
  {
   "cell_type": "code",
   "execution_count": null,
   "metadata": {
    "id": "SJmKQHL3sUu2"
   },
   "outputs": [],
   "source": [
    "import pandas as pd\n",
    "import numpy as np\n",
    "import geopandas as gpd\n",
    "\n",
    "import matplotlib.pyplot as plt\n",
    "import seaborn as sns"
   ]
  },
  {
   "cell_type": "markdown",
   "metadata": {
    "id": "Js2y5BAU1se2"
   },
   "source": [
    "# 载入数据"
   ]
  },
  {
   "cell_type": "code",
   "execution_count": null,
   "metadata": {
    "colab": {
     "base_uri": "https://localhost:8080/",
     "height": 419
    },
    "executionInfo": {
     "elapsed": 702,
     "status": "ok",
     "timestamp": 1685410284343,
     "user": {
      "displayName": "Aria C",
      "userId": "13309219771091978768"
     },
     "user_tz": -480
    },
    "id": "dsWW0gGosXmp",
    "outputId": "ec5d0c35-cbaf-4053-e8cc-146aa70d105f"
   },
   "outputs": [
    {
     "data": {
      "text/html": [
       "\n",
       "  <div id=\"df-37de78f4-55e6-4310-8c60-b7c4005c1a9b\">\n",
       "    <div class=\"colab-df-container\">\n",
       "      <div>\n",
       "<style scoped>\n",
       "    .dataframe tbody tr th:only-of-type {\n",
       "        vertical-align: middle;\n",
       "    }\n",
       "\n",
       "    .dataframe tbody tr th {\n",
       "        vertical-align: top;\n",
       "    }\n",
       "\n",
       "    .dataframe thead th {\n",
       "        text-align: right;\n",
       "    }\n",
       "</style>\n",
       "<table border=\"1\" class=\"dataframe\">\n",
       "  <thead>\n",
       "    <tr style=\"text-align: right;\">\n",
       "      <th></th>\n",
       "      <th>gid</th>\n",
       "      <th>label</th>\n",
       "    </tr>\n",
       "  </thead>\n",
       "  <tbody>\n",
       "    <tr>\n",
       "      <th>0</th>\n",
       "      <td>0-Colonial architecture-1</td>\n",
       "      <td>0</td>\n",
       "    </tr>\n",
       "    <tr>\n",
       "      <th>1</th>\n",
       "      <td>0-Colonial architecture-10</td>\n",
       "      <td>0</td>\n",
       "    </tr>\n",
       "    <tr>\n",
       "      <th>2</th>\n",
       "      <td>0-Colonial architecture-100</td>\n",
       "      <td>0</td>\n",
       "    </tr>\n",
       "    <tr>\n",
       "      <th>3</th>\n",
       "      <td>0-Colonial architecture-101</td>\n",
       "      <td>0</td>\n",
       "    </tr>\n",
       "    <tr>\n",
       "      <th>4</th>\n",
       "      <td>0-Colonial architecture-102</td>\n",
       "      <td>0</td>\n",
       "    </tr>\n",
       "    <tr>\n",
       "      <th>...</th>\n",
       "      <td>...</td>\n",
       "      <td>...</td>\n",
       "    </tr>\n",
       "    <tr>\n",
       "      <th>5306</th>\n",
       "      <td>9-Art Deco architecture-95</td>\n",
       "      <td>9</td>\n",
       "    </tr>\n",
       "    <tr>\n",
       "      <th>5307</th>\n",
       "      <td>9-Art Deco architecture-96</td>\n",
       "      <td>9</td>\n",
       "    </tr>\n",
       "    <tr>\n",
       "      <th>5308</th>\n",
       "      <td>9-Art Deco architecture-97</td>\n",
       "      <td>9</td>\n",
       "    </tr>\n",
       "    <tr>\n",
       "      <th>5309</th>\n",
       "      <td>9-Art Deco architecture-98</td>\n",
       "      <td>9</td>\n",
       "    </tr>\n",
       "    <tr>\n",
       "      <th>5310</th>\n",
       "      <td>9-Art Deco architecture-99</td>\n",
       "      <td>9</td>\n",
       "    </tr>\n",
       "  </tbody>\n",
       "</table>\n",
       "<p>5311 rows × 2 columns</p>\n",
       "</div>\n",
       "      <button class=\"colab-df-convert\" onclick=\"convertToInteractive('df-37de78f4-55e6-4310-8c60-b7c4005c1a9b')\"\n",
       "              title=\"Convert this dataframe to an interactive table.\"\n",
       "              style=\"display:none;\">\n",
       "        \n",
       "  <svg xmlns=\"http://www.w3.org/2000/svg\" height=\"24px\"viewBox=\"0 0 24 24\"\n",
       "       width=\"24px\">\n",
       "    <path d=\"M0 0h24v24H0V0z\" fill=\"none\"/>\n",
       "    <path d=\"M18.56 5.44l.94 2.06.94-2.06 2.06-.94-2.06-.94-.94-2.06-.94 2.06-2.06.94zm-11 1L8.5 8.5l.94-2.06 2.06-.94-2.06-.94L8.5 2.5l-.94 2.06-2.06.94zm10 10l.94 2.06.94-2.06 2.06-.94-2.06-.94-.94-2.06-.94 2.06-2.06.94z\"/><path d=\"M17.41 7.96l-1.37-1.37c-.4-.4-.92-.59-1.43-.59-.52 0-1.04.2-1.43.59L10.3 9.45l-7.72 7.72c-.78.78-.78 2.05 0 2.83L4 21.41c.39.39.9.59 1.41.59.51 0 1.02-.2 1.41-.59l7.78-7.78 2.81-2.81c.8-.78.8-2.07 0-2.86zM5.41 20L4 18.59l7.72-7.72 1.47 1.35L5.41 20z\"/>\n",
       "  </svg>\n",
       "      </button>\n",
       "      \n",
       "  <style>\n",
       "    .colab-df-container {\n",
       "      display:flex;\n",
       "      flex-wrap:wrap;\n",
       "      gap: 12px;\n",
       "    }\n",
       "\n",
       "    .colab-df-convert {\n",
       "      background-color: #E8F0FE;\n",
       "      border: none;\n",
       "      border-radius: 50%;\n",
       "      cursor: pointer;\n",
       "      display: none;\n",
       "      fill: #1967D2;\n",
       "      height: 32px;\n",
       "      padding: 0 0 0 0;\n",
       "      width: 32px;\n",
       "    }\n",
       "\n",
       "    .colab-df-convert:hover {\n",
       "      background-color: #E2EBFA;\n",
       "      box-shadow: 0px 1px 2px rgba(60, 64, 67, 0.3), 0px 1px 3px 1px rgba(60, 64, 67, 0.15);\n",
       "      fill: #174EA6;\n",
       "    }\n",
       "\n",
       "    [theme=dark] .colab-df-convert {\n",
       "      background-color: #3B4455;\n",
       "      fill: #D2E3FC;\n",
       "    }\n",
       "\n",
       "    [theme=dark] .colab-df-convert:hover {\n",
       "      background-color: #434B5C;\n",
       "      box-shadow: 0px 1px 3px 1px rgba(0, 0, 0, 0.15);\n",
       "      filter: drop-shadow(0px 1px 2px rgba(0, 0, 0, 0.3));\n",
       "      fill: #FFFFFF;\n",
       "    }\n",
       "  </style>\n",
       "\n",
       "      <script>\n",
       "        const buttonEl =\n",
       "          document.querySelector('#df-37de78f4-55e6-4310-8c60-b7c4005c1a9b button.colab-df-convert');\n",
       "        buttonEl.style.display =\n",
       "          google.colab.kernel.accessAllowed ? 'block' : 'none';\n",
       "\n",
       "        async function convertToInteractive(key) {\n",
       "          const element = document.querySelector('#df-37de78f4-55e6-4310-8c60-b7c4005c1a9b');\n",
       "          const dataTable =\n",
       "            await google.colab.kernel.invokeFunction('convertToInteractive',\n",
       "                                                     [key], {});\n",
       "          if (!dataTable) return;\n",
       "\n",
       "          const docLinkHtml = 'Like what you see? Visit the ' +\n",
       "            '<a target=\"_blank\" href=https://colab.research.google.com/notebooks/data_table.ipynb>data table notebook</a>'\n",
       "            + ' to learn more about interactive tables.';\n",
       "          element.innerHTML = '';\n",
       "          dataTable['output_type'] = 'display_data';\n",
       "          await google.colab.output.renderOutput(dataTable, element);\n",
       "          const docLink = document.createElement('div');\n",
       "          docLink.innerHTML = docLinkHtml;\n",
       "          element.appendChild(docLink);\n",
       "        }\n",
       "      </script>\n",
       "    </div>\n",
       "  </div>\n",
       "  "
      ],
      "text/plain": [
       "                              gid  label\n",
       "0       0-Colonial architecture-1      0\n",
       "1      0-Colonial architecture-10      0\n",
       "2     0-Colonial architecture-100      0\n",
       "3     0-Colonial architecture-101      0\n",
       "4     0-Colonial architecture-102      0\n",
       "...                           ...    ...\n",
       "5306   9-Art Deco architecture-95      9\n",
       "5307   9-Art Deco architecture-96      9\n",
       "5308   9-Art Deco architecture-97      9\n",
       "5309   9-Art Deco architecture-98      9\n",
       "5310   9-Art Deco architecture-99      9\n",
       "\n",
       "[5311 rows x 2 columns]"
      ]
     },
     "execution_count": 5,
     "metadata": {},
     "output_type": "execute_result"
    }
   ],
   "source": [
    "bvld_sty = pd.read_csv(\"img_style.csv\")\n",
    "bvld_sty\n",
    "\n",
    "#label需要是数字，不然后面的程序会报错"
   ]
  },
  {
   "cell_type": "code",
   "execution_count": null,
   "metadata": {
    "colab": {
     "base_uri": "https://localhost:8080/"
    },
    "executionInfo": {
     "elapsed": 529,
     "status": "ok",
     "timestamp": 1685410286569,
     "user": {
      "displayName": "Aria C",
      "userId": "13309219771091978768"
     },
     "user_tz": -480
    },
    "id": "aSdRgO61BNHc",
    "outputId": "e7a6725b-3033-4b8b-ab20-c94faa763e84"
   },
   "outputs": [
    {
     "data": {
      "text/plain": [
       "8     606\n",
       "9     566\n",
       "2     499\n",
       "0     480\n",
       "7     424\n",
       "11    412\n",
       "1     381\n",
       "4     359\n",
       "3     343\n",
       "10    339\n",
       "5     328\n",
       "12    311\n",
       "6     263\n",
       "Name: label, dtype: int64"
      ]
     },
     "execution_count": 6,
     "metadata": {},
     "output_type": "execute_result"
    }
   ],
   "source": [
    "bvld_sty.label.value_counts()"
   ]
  },
  {
   "cell_type": "markdown",
   "metadata": {
    "id": "8Kow6Q8U1ubL"
   },
   "source": [
    "# 训练集划分"
   ]
  },
  {
   "cell_type": "code",
   "execution_count": null,
   "metadata": {
    "colab": {
     "base_uri": "https://localhost:8080/"
    },
    "executionInfo": {
     "elapsed": 558,
     "status": "ok",
     "timestamp": 1685410290073,
     "user": {
      "displayName": "Aria C",
      "userId": "13309219771091978768"
     },
     "user_tz": -480
    },
    "id": "Zg7XVlZs14qj",
    "outputId": "b81efb4e-b2b0-44e9-f689-840475edbe66"
   },
   "outputs": [
    {
     "name": "stdout",
     "output_type": "stream",
     "text": [
      "训练集大小: 3453\n",
      "验证集大小: 432\n",
      "测试集大小: 432\n"
     ]
    }
   ],
   "source": [
    "#为了让所有的label每个数量差不多\n",
    "trainDF = bvld_sty.groupby('label').apply(lambda x:x.sample(n=700, replace=True)).drop_duplicates(subset='gid').reset_index(drop=True)\n",
    "\n",
    "# 分为训练、验证、测试集\n",
    "train_num = int(len(trainDF)* 0.8)\n",
    "val_num = int((len(trainDF) - train_num) / 2)\n",
    "test_num = len(trainDF) - train_num - val_num\n",
    "trainDF = trainDF.sample(frac=1)\n",
    "trainDF['split'] = ['train'] * train_num + ['val'] * val_num + ['test'] * test_num\n",
    "\n",
    "#trainDF.label.value_counts()\n",
    "\n",
    "# 打印划分后的数据集大小\n",
    "print(\"训练集大小:\", len(trainDF[trainDF['split'] == 'train']))\n",
    "print(\"验证集大小:\", len(trainDF[trainDF['split'] == 'val']))\n",
    "print(\"测试集大小:\", len(trainDF[trainDF['split'] == 'test']))\n"
   ]
  },
  {
   "cell_type": "code",
   "execution_count": null,
   "metadata": {
    "colab": {
     "base_uri": "https://localhost:8080/"
    },
    "executionInfo": {
     "elapsed": 384,
     "status": "ok",
     "timestamp": 1685410297715,
     "user": {
      "displayName": "Aria C",
      "userId": "13309219771091978768"
     },
     "user_tz": -480
    },
    "id": "sCFxm-wV2Gvv",
    "outputId": "4a73935a-5d72-45f4-dfc5-0179a92c3871"
   },
   "outputs": [
    {
     "data": {
      "text/plain": [
       "8     422\n",
       "9     398\n",
       "0     375\n",
       "2     374\n",
       "11    349\n",
       "7     346\n",
       "1     327\n",
       "4     306\n",
       "10    302\n",
       "3     298\n",
       "5     292\n",
       "12    284\n",
       "6     244\n",
       "Name: label, dtype: int64"
      ]
     },
     "execution_count": 9,
     "metadata": {},
     "output_type": "execute_result"
    }
   ],
   "source": [
    "trainDF.label.value_counts()"
   ]
  },
  {
   "cell_type": "code",
   "execution_count": null,
   "metadata": {
    "colab": {
     "base_uri": "https://localhost:8080/",
     "height": 419
    },
    "executionInfo": {
     "elapsed": 571,
     "status": "ok",
     "timestamp": 1685410300353,
     "user": {
      "displayName": "Aria C",
      "userId": "13309219771091978768"
     },
     "user_tz": -480
    },
    "id": "k_gZROH72MEI",
    "outputId": "c9f1a813-c184-40c7-d9ea-53909c788f68"
   },
   "outputs": [
    {
     "data": {
      "text/html": [
       "\n",
       "  <div id=\"df-8ba19968-0d4b-4cf0-b08c-87bf4a61e285\">\n",
       "    <div class=\"colab-df-container\">\n",
       "      <div>\n",
       "<style scoped>\n",
       "    .dataframe tbody tr th:only-of-type {\n",
       "        vertical-align: middle;\n",
       "    }\n",
       "\n",
       "    .dataframe tbody tr th {\n",
       "        vertical-align: top;\n",
       "    }\n",
       "\n",
       "    .dataframe thead th {\n",
       "        text-align: right;\n",
       "    }\n",
       "</style>\n",
       "<table border=\"1\" class=\"dataframe\">\n",
       "  <thead>\n",
       "    <tr style=\"text-align: right;\">\n",
       "      <th></th>\n",
       "      <th>gid</th>\n",
       "      <th>label</th>\n",
       "      <th>split</th>\n",
       "    </tr>\n",
       "  </thead>\n",
       "  <tbody>\n",
       "    <tr>\n",
       "      <th>222</th>\n",
       "      <td>0-Colonial architecture-242</td>\n",
       "      <td>0</td>\n",
       "      <td>train</td>\n",
       "    </tr>\n",
       "    <tr>\n",
       "      <th>633</th>\n",
       "      <td>1-Georgian architecture-3</td>\n",
       "      <td>1</td>\n",
       "      <td>train</td>\n",
       "    </tr>\n",
       "    <tr>\n",
       "      <th>405</th>\n",
       "      <td>1-Georgian architecture-111</td>\n",
       "      <td>1</td>\n",
       "      <td>train</td>\n",
       "    </tr>\n",
       "    <tr>\n",
       "      <th>1528</th>\n",
       "      <td>4-American craftsman style-166</td>\n",
       "      <td>4</td>\n",
       "      <td>train</td>\n",
       "    </tr>\n",
       "    <tr>\n",
       "      <th>3449</th>\n",
       "      <td>10-Brutalism-245</td>\n",
       "      <td>10</td>\n",
       "      <td>train</td>\n",
       "    </tr>\n",
       "    <tr>\n",
       "      <th>...</th>\n",
       "      <td>...</td>\n",
       "      <td>...</td>\n",
       "      <td>...</td>\n",
       "    </tr>\n",
       "    <tr>\n",
       "      <th>1683</th>\n",
       "      <td>5-Gothic architecture-283</td>\n",
       "      <td>5</td>\n",
       "      <td>test</td>\n",
       "    </tr>\n",
       "    <tr>\n",
       "      <th>739</th>\n",
       "      <td>2-Greek Revival architecture-279</td>\n",
       "      <td>2</td>\n",
       "      <td>test</td>\n",
       "    </tr>\n",
       "    <tr>\n",
       "      <th>4120</th>\n",
       "      <td>12-Postmodern architecture-230</td>\n",
       "      <td>12</td>\n",
       "      <td>test</td>\n",
       "    </tr>\n",
       "    <tr>\n",
       "      <th>2046</th>\n",
       "      <td>6-Chicago school architecture-246</td>\n",
       "      <td>6</td>\n",
       "      <td>test</td>\n",
       "    </tr>\n",
       "    <tr>\n",
       "      <th>3247</th>\n",
       "      <td>9-Art Deco architecture-9</td>\n",
       "      <td>9</td>\n",
       "      <td>test</td>\n",
       "    </tr>\n",
       "  </tbody>\n",
       "</table>\n",
       "<p>4317 rows × 3 columns</p>\n",
       "</div>\n",
       "      <button class=\"colab-df-convert\" onclick=\"convertToInteractive('df-8ba19968-0d4b-4cf0-b08c-87bf4a61e285')\"\n",
       "              title=\"Convert this dataframe to an interactive table.\"\n",
       "              style=\"display:none;\">\n",
       "        \n",
       "  <svg xmlns=\"http://www.w3.org/2000/svg\" height=\"24px\"viewBox=\"0 0 24 24\"\n",
       "       width=\"24px\">\n",
       "    <path d=\"M0 0h24v24H0V0z\" fill=\"none\"/>\n",
       "    <path d=\"M18.56 5.44l.94 2.06.94-2.06 2.06-.94-2.06-.94-.94-2.06-.94 2.06-2.06.94zm-11 1L8.5 8.5l.94-2.06 2.06-.94-2.06-.94L8.5 2.5l-.94 2.06-2.06.94zm10 10l.94 2.06.94-2.06 2.06-.94-2.06-.94-.94-2.06-.94 2.06-2.06.94z\"/><path d=\"M17.41 7.96l-1.37-1.37c-.4-.4-.92-.59-1.43-.59-.52 0-1.04.2-1.43.59L10.3 9.45l-7.72 7.72c-.78.78-.78 2.05 0 2.83L4 21.41c.39.39.9.59 1.41.59.51 0 1.02-.2 1.41-.59l7.78-7.78 2.81-2.81c.8-.78.8-2.07 0-2.86zM5.41 20L4 18.59l7.72-7.72 1.47 1.35L5.41 20z\"/>\n",
       "  </svg>\n",
       "      </button>\n",
       "      \n",
       "  <style>\n",
       "    .colab-df-container {\n",
       "      display:flex;\n",
       "      flex-wrap:wrap;\n",
       "      gap: 12px;\n",
       "    }\n",
       "\n",
       "    .colab-df-convert {\n",
       "      background-color: #E8F0FE;\n",
       "      border: none;\n",
       "      border-radius: 50%;\n",
       "      cursor: pointer;\n",
       "      display: none;\n",
       "      fill: #1967D2;\n",
       "      height: 32px;\n",
       "      padding: 0 0 0 0;\n",
       "      width: 32px;\n",
       "    }\n",
       "\n",
       "    .colab-df-convert:hover {\n",
       "      background-color: #E2EBFA;\n",
       "      box-shadow: 0px 1px 2px rgba(60, 64, 67, 0.3), 0px 1px 3px 1px rgba(60, 64, 67, 0.15);\n",
       "      fill: #174EA6;\n",
       "    }\n",
       "\n",
       "    [theme=dark] .colab-df-convert {\n",
       "      background-color: #3B4455;\n",
       "      fill: #D2E3FC;\n",
       "    }\n",
       "\n",
       "    [theme=dark] .colab-df-convert:hover {\n",
       "      background-color: #434B5C;\n",
       "      box-shadow: 0px 1px 3px 1px rgba(0, 0, 0, 0.15);\n",
       "      filter: drop-shadow(0px 1px 2px rgba(0, 0, 0, 0.3));\n",
       "      fill: #FFFFFF;\n",
       "    }\n",
       "  </style>\n",
       "\n",
       "      <script>\n",
       "        const buttonEl =\n",
       "          document.querySelector('#df-8ba19968-0d4b-4cf0-b08c-87bf4a61e285 button.colab-df-convert');\n",
       "        buttonEl.style.display =\n",
       "          google.colab.kernel.accessAllowed ? 'block' : 'none';\n",
       "\n",
       "        async function convertToInteractive(key) {\n",
       "          const element = document.querySelector('#df-8ba19968-0d4b-4cf0-b08c-87bf4a61e285');\n",
       "          const dataTable =\n",
       "            await google.colab.kernel.invokeFunction('convertToInteractive',\n",
       "                                                     [key], {});\n",
       "          if (!dataTable) return;\n",
       "\n",
       "          const docLinkHtml = 'Like what you see? Visit the ' +\n",
       "            '<a target=\"_blank\" href=https://colab.research.google.com/notebooks/data_table.ipynb>data table notebook</a>'\n",
       "            + ' to learn more about interactive tables.';\n",
       "          element.innerHTML = '';\n",
       "          dataTable['output_type'] = 'display_data';\n",
       "          await google.colab.output.renderOutput(dataTable, element);\n",
       "          const docLink = document.createElement('div');\n",
       "          docLink.innerHTML = docLinkHtml;\n",
       "          element.appendChild(docLink);\n",
       "        }\n",
       "      </script>\n",
       "    </div>\n",
       "  </div>\n",
       "  "
      ],
      "text/plain": [
       "                                    gid  label  split\n",
       "222         0-Colonial architecture-242      0  train\n",
       "633           1-Georgian architecture-3      1  train\n",
       "405         1-Georgian architecture-111      1  train\n",
       "1528     4-American craftsman style-166      4  train\n",
       "3449                   10-Brutalism-245     10  train\n",
       "...                                 ...    ...    ...\n",
       "1683          5-Gothic architecture-283      5   test\n",
       "739    2-Greek Revival architecture-279      2   test\n",
       "4120     12-Postmodern architecture-230     12   test\n",
       "2046  6-Chicago school architecture-246      6   test\n",
       "3247          9-Art Deco architecture-9      9   test\n",
       "\n",
       "[4317 rows x 3 columns]"
      ]
     },
     "execution_count": 10,
     "metadata": {},
     "output_type": "execute_result"
    }
   ],
   "source": [
    "trainDF"
   ]
  },
  {
   "cell_type": "code",
   "execution_count": null,
   "metadata": {
    "id": "CywzYpoJ2OON"
   },
   "outputs": [],
   "source": [
    "trainDF['path'] = trainDF['gid'].apply(lambda x: \"/content/gdrive/MyDrive/T_ML/0-try1-13styles/nyc-styles-all/{}.jpg\".format(x))"
   ]
  },
  {
   "cell_type": "code",
   "execution_count": null,
   "metadata": {
    "colab": {
     "base_uri": "https://localhost:8080/",
     "height": 419
    },
    "executionInfo": {
     "elapsed": 675,
     "status": "ok",
     "timestamp": 1685410307959,
     "user": {
      "displayName": "Aria C",
      "userId": "13309219771091978768"
     },
     "user_tz": -480
    },
    "id": "M75rgQ_T5N3n",
    "outputId": "1f15e629-db4a-4de2-cf74-faad57ad52fc"
   },
   "outputs": [
    {
     "data": {
      "text/html": [
       "\n",
       "  <div id=\"df-baffc93b-c580-4c49-9105-56592dd42ceb\">\n",
       "    <div class=\"colab-df-container\">\n",
       "      <div>\n",
       "<style scoped>\n",
       "    .dataframe tbody tr th:only-of-type {\n",
       "        vertical-align: middle;\n",
       "    }\n",
       "\n",
       "    .dataframe tbody tr th {\n",
       "        vertical-align: top;\n",
       "    }\n",
       "\n",
       "    .dataframe thead th {\n",
       "        text-align: right;\n",
       "    }\n",
       "</style>\n",
       "<table border=\"1\" class=\"dataframe\">\n",
       "  <thead>\n",
       "    <tr style=\"text-align: right;\">\n",
       "      <th></th>\n",
       "      <th>gid</th>\n",
       "      <th>label</th>\n",
       "      <th>split</th>\n",
       "      <th>path</th>\n",
       "    </tr>\n",
       "  </thead>\n",
       "  <tbody>\n",
       "    <tr>\n",
       "      <th>222</th>\n",
       "      <td>0-Colonial architecture-242</td>\n",
       "      <td>0</td>\n",
       "      <td>train</td>\n",
       "      <td>/content/gdrive/MyDrive/T_ML/0-try1-13styles/n...</td>\n",
       "    </tr>\n",
       "    <tr>\n",
       "      <th>633</th>\n",
       "      <td>1-Georgian architecture-3</td>\n",
       "      <td>1</td>\n",
       "      <td>train</td>\n",
       "      <td>/content/gdrive/MyDrive/T_ML/0-try1-13styles/n...</td>\n",
       "    </tr>\n",
       "    <tr>\n",
       "      <th>405</th>\n",
       "      <td>1-Georgian architecture-111</td>\n",
       "      <td>1</td>\n",
       "      <td>train</td>\n",
       "      <td>/content/gdrive/MyDrive/T_ML/0-try1-13styles/n...</td>\n",
       "    </tr>\n",
       "    <tr>\n",
       "      <th>1528</th>\n",
       "      <td>4-American craftsman style-166</td>\n",
       "      <td>4</td>\n",
       "      <td>train</td>\n",
       "      <td>/content/gdrive/MyDrive/T_ML/0-try1-13styles/n...</td>\n",
       "    </tr>\n",
       "    <tr>\n",
       "      <th>3449</th>\n",
       "      <td>10-Brutalism-245</td>\n",
       "      <td>10</td>\n",
       "      <td>train</td>\n",
       "      <td>/content/gdrive/MyDrive/T_ML/0-try1-13styles/n...</td>\n",
       "    </tr>\n",
       "    <tr>\n",
       "      <th>...</th>\n",
       "      <td>...</td>\n",
       "      <td>...</td>\n",
       "      <td>...</td>\n",
       "      <td>...</td>\n",
       "    </tr>\n",
       "    <tr>\n",
       "      <th>1683</th>\n",
       "      <td>5-Gothic architecture-283</td>\n",
       "      <td>5</td>\n",
       "      <td>test</td>\n",
       "      <td>/content/gdrive/MyDrive/T_ML/0-try1-13styles/n...</td>\n",
       "    </tr>\n",
       "    <tr>\n",
       "      <th>739</th>\n",
       "      <td>2-Greek Revival architecture-279</td>\n",
       "      <td>2</td>\n",
       "      <td>test</td>\n",
       "      <td>/content/gdrive/MyDrive/T_ML/0-try1-13styles/n...</td>\n",
       "    </tr>\n",
       "    <tr>\n",
       "      <th>4120</th>\n",
       "      <td>12-Postmodern architecture-230</td>\n",
       "      <td>12</td>\n",
       "      <td>test</td>\n",
       "      <td>/content/gdrive/MyDrive/T_ML/0-try1-13styles/n...</td>\n",
       "    </tr>\n",
       "    <tr>\n",
       "      <th>2046</th>\n",
       "      <td>6-Chicago school architecture-246</td>\n",
       "      <td>6</td>\n",
       "      <td>test</td>\n",
       "      <td>/content/gdrive/MyDrive/T_ML/0-try1-13styles/n...</td>\n",
       "    </tr>\n",
       "    <tr>\n",
       "      <th>3247</th>\n",
       "      <td>9-Art Deco architecture-9</td>\n",
       "      <td>9</td>\n",
       "      <td>test</td>\n",
       "      <td>/content/gdrive/MyDrive/T_ML/0-try1-13styles/n...</td>\n",
       "    </tr>\n",
       "  </tbody>\n",
       "</table>\n",
       "<p>4317 rows × 4 columns</p>\n",
       "</div>\n",
       "      <button class=\"colab-df-convert\" onclick=\"convertToInteractive('df-baffc93b-c580-4c49-9105-56592dd42ceb')\"\n",
       "              title=\"Convert this dataframe to an interactive table.\"\n",
       "              style=\"display:none;\">\n",
       "        \n",
       "  <svg xmlns=\"http://www.w3.org/2000/svg\" height=\"24px\"viewBox=\"0 0 24 24\"\n",
       "       width=\"24px\">\n",
       "    <path d=\"M0 0h24v24H0V0z\" fill=\"none\"/>\n",
       "    <path d=\"M18.56 5.44l.94 2.06.94-2.06 2.06-.94-2.06-.94-.94-2.06-.94 2.06-2.06.94zm-11 1L8.5 8.5l.94-2.06 2.06-.94-2.06-.94L8.5 2.5l-.94 2.06-2.06.94zm10 10l.94 2.06.94-2.06 2.06-.94-2.06-.94-.94-2.06-.94 2.06-2.06.94z\"/><path d=\"M17.41 7.96l-1.37-1.37c-.4-.4-.92-.59-1.43-.59-.52 0-1.04.2-1.43.59L10.3 9.45l-7.72 7.72c-.78.78-.78 2.05 0 2.83L4 21.41c.39.39.9.59 1.41.59.51 0 1.02-.2 1.41-.59l7.78-7.78 2.81-2.81c.8-.78.8-2.07 0-2.86zM5.41 20L4 18.59l7.72-7.72 1.47 1.35L5.41 20z\"/>\n",
       "  </svg>\n",
       "      </button>\n",
       "      \n",
       "  <style>\n",
       "    .colab-df-container {\n",
       "      display:flex;\n",
       "      flex-wrap:wrap;\n",
       "      gap: 12px;\n",
       "    }\n",
       "\n",
       "    .colab-df-convert {\n",
       "      background-color: #E8F0FE;\n",
       "      border: none;\n",
       "      border-radius: 50%;\n",
       "      cursor: pointer;\n",
       "      display: none;\n",
       "      fill: #1967D2;\n",
       "      height: 32px;\n",
       "      padding: 0 0 0 0;\n",
       "      width: 32px;\n",
       "    }\n",
       "\n",
       "    .colab-df-convert:hover {\n",
       "      background-color: #E2EBFA;\n",
       "      box-shadow: 0px 1px 2px rgba(60, 64, 67, 0.3), 0px 1px 3px 1px rgba(60, 64, 67, 0.15);\n",
       "      fill: #174EA6;\n",
       "    }\n",
       "\n",
       "    [theme=dark] .colab-df-convert {\n",
       "      background-color: #3B4455;\n",
       "      fill: #D2E3FC;\n",
       "    }\n",
       "\n",
       "    [theme=dark] .colab-df-convert:hover {\n",
       "      background-color: #434B5C;\n",
       "      box-shadow: 0px 1px 3px 1px rgba(0, 0, 0, 0.15);\n",
       "      filter: drop-shadow(0px 1px 2px rgba(0, 0, 0, 0.3));\n",
       "      fill: #FFFFFF;\n",
       "    }\n",
       "  </style>\n",
       "\n",
       "      <script>\n",
       "        const buttonEl =\n",
       "          document.querySelector('#df-baffc93b-c580-4c49-9105-56592dd42ceb button.colab-df-convert');\n",
       "        buttonEl.style.display =\n",
       "          google.colab.kernel.accessAllowed ? 'block' : 'none';\n",
       "\n",
       "        async function convertToInteractive(key) {\n",
       "          const element = document.querySelector('#df-baffc93b-c580-4c49-9105-56592dd42ceb');\n",
       "          const dataTable =\n",
       "            await google.colab.kernel.invokeFunction('convertToInteractive',\n",
       "                                                     [key], {});\n",
       "          if (!dataTable) return;\n",
       "\n",
       "          const docLinkHtml = 'Like what you see? Visit the ' +\n",
       "            '<a target=\"_blank\" href=https://colab.research.google.com/notebooks/data_table.ipynb>data table notebook</a>'\n",
       "            + ' to learn more about interactive tables.';\n",
       "          element.innerHTML = '';\n",
       "          dataTable['output_type'] = 'display_data';\n",
       "          await google.colab.output.renderOutput(dataTable, element);\n",
       "          const docLink = document.createElement('div');\n",
       "          docLink.innerHTML = docLinkHtml;\n",
       "          element.appendChild(docLink);\n",
       "        }\n",
       "      </script>\n",
       "    </div>\n",
       "  </div>\n",
       "  "
      ],
      "text/plain": [
       "                                    gid  label  split  \\\n",
       "222         0-Colonial architecture-242      0  train   \n",
       "633           1-Georgian architecture-3      1  train   \n",
       "405         1-Georgian architecture-111      1  train   \n",
       "1528     4-American craftsman style-166      4  train   \n",
       "3449                   10-Brutalism-245     10  train   \n",
       "...                                 ...    ...    ...   \n",
       "1683          5-Gothic architecture-283      5   test   \n",
       "739    2-Greek Revival architecture-279      2   test   \n",
       "4120     12-Postmodern architecture-230     12   test   \n",
       "2046  6-Chicago school architecture-246      6   test   \n",
       "3247          9-Art Deco architecture-9      9   test   \n",
       "\n",
       "                                                   path  \n",
       "222   /content/gdrive/MyDrive/T_ML/0-try1-13styles/n...  \n",
       "633   /content/gdrive/MyDrive/T_ML/0-try1-13styles/n...  \n",
       "405   /content/gdrive/MyDrive/T_ML/0-try1-13styles/n...  \n",
       "1528  /content/gdrive/MyDrive/T_ML/0-try1-13styles/n...  \n",
       "3449  /content/gdrive/MyDrive/T_ML/0-try1-13styles/n...  \n",
       "...                                                 ...  \n",
       "1683  /content/gdrive/MyDrive/T_ML/0-try1-13styles/n...  \n",
       "739   /content/gdrive/MyDrive/T_ML/0-try1-13styles/n...  \n",
       "4120  /content/gdrive/MyDrive/T_ML/0-try1-13styles/n...  \n",
       "2046  /content/gdrive/MyDrive/T_ML/0-try1-13styles/n...  \n",
       "3247  /content/gdrive/MyDrive/T_ML/0-try1-13styles/n...  \n",
       "\n",
       "[4317 rows x 4 columns]"
      ]
     },
     "execution_count": 12,
     "metadata": {},
     "output_type": "execute_result"
    }
   ],
   "source": [
    "trainDF"
   ]
  },
  {
   "cell_type": "code",
   "execution_count": null,
   "metadata": {
    "id": "A1T78Ya85c_l"
   },
   "outputs": [],
   "source": [
    "trainDF.to_pickle(\"5311_50epoch_13styles_v0.p\", protocol=3)"
   ]
  },
  {
   "cell_type": "markdown",
   "metadata": {
    "id": "xc8fxnRR6kVn"
   },
   "source": [
    "# 模型训练"
   ]
  },
  {
   "cell_type": "markdown",
   "metadata": {
    "id": "XzDXmPuk6ntm"
   },
   "source": [
    "## 设置"
   ]
  },
  {
   "cell_type": "code",
   "execution_count": null,
   "metadata": {
    "id": "3L8_wzHF6jcW"
   },
   "outputs": [],
   "source": [
    "import pandas as pd\n",
    "import numpy as np\n",
    "\n",
    "import torch\n",
    "import torch.nn as nn\n",
    "import torch.optim\n",
    "from torchvision import transforms as trn\n",
    "import torchvision.models as models\n",
    "import torch.utils.data as data\n",
    "\n",
    "from PIL import Image"
   ]
  },
  {
   "cell_type": "markdown",
   "metadata": {
    "id": "Ipn72RKx6sFy"
   },
   "source": [
    "## 创建模型"
   ]
  },
  {
   "cell_type": "code",
   "execution_count": null,
   "metadata": {
    "colab": {
     "base_uri": "https://localhost:8080/"
    },
    "executionInfo": {
     "elapsed": 5560,
     "status": "ok",
     "timestamp": 1685410348587,
     "user": {
      "displayName": "Aria C",
      "userId": "13309219771091978768"
     },
     "user_tz": -480
    },
    "id": "hLm-IgOq6qtQ",
    "outputId": "a8b62ac2-2701-465f-c902-92a8e81fd293"
   },
   "outputs": [
    {
     "name": "stderr",
     "output_type": "stream",
     "text": [
      "/usr/local/lib/python3.10/dist-packages/torchvision/models/_utils.py:208: UserWarning: The parameter 'pretrained' is deprecated since 0.13 and may be removed in the future, please use 'weights' instead.\n",
      "  warnings.warn(\n",
      "/usr/local/lib/python3.10/dist-packages/torchvision/models/_utils.py:223: UserWarning: Arguments other than a weight enum or `None` for 'weights' are deprecated since 0.13 and may be removed in the future. The current behavior is equivalent to passing `weights=DenseNet121_Weights.IMAGENET1K_V1`. You can also use `weights=DenseNet121_Weights.DEFAULT` to get the most up-to-date weights.\n",
      "  warnings.warn(msg)\n",
      "Downloading: \"https://download.pytorch.org/models/densenet121-a639ec97.pth\" to /root/.cache/torch/hub/checkpoints/densenet121-a639ec97.pth\n",
      "100%|██████████| 30.8M/30.8M [00:00<00:00, 229MB/s]\n"
     ]
    }
   ],
   "source": [
    "model = models.densenet121(pretrained=True)\n",
    "# 修改模型，与任务相关\n",
    "model.classifier = nn.Linear(in_features=1024, out_features=13, bias=True) \n",
    "# cuda 并行\n",
    "model = nn.DataParallel(model).cuda()"
   ]
  },
  {
   "cell_type": "code",
   "execution_count": null,
   "metadata": {
    "colab": {
     "base_uri": "https://localhost:8080/"
    },
    "executionInfo": {
     "elapsed": 536,
     "status": "ok",
     "timestamp": 1685410350444,
     "user": {
      "displayName": "Aria C",
      "userId": "13309219771091978768"
     },
     "user_tz": -480
    },
    "id": "Tvf5AChe62C9",
    "outputId": "1581d33d-bdb8-4a44-e59e-50e6c16a194a"
   },
   "outputs": [
    {
     "name": "stdout",
     "output_type": "stream",
     "text": [
      "DataParallel(\n",
      "  (module): DenseNet(\n",
      "    (features): Sequential(\n",
      "      (conv0): Conv2d(3, 64, kernel_size=(7, 7), stride=(2, 2), padding=(3, 3), bias=False)\n",
      "      (norm0): BatchNorm2d(64, eps=1e-05, momentum=0.1, affine=True, track_running_stats=True)\n",
      "      (relu0): ReLU(inplace=True)\n",
      "      (pool0): MaxPool2d(kernel_size=3, stride=2, padding=1, dilation=1, ceil_mode=False)\n",
      "      (denseblock1): _DenseBlock(\n",
      "        (denselayer1): _DenseLayer(\n",
      "          (norm1): BatchNorm2d(64, eps=1e-05, momentum=0.1, affine=True, track_running_stats=True)\n",
      "          (relu1): ReLU(inplace=True)\n",
      "          (conv1): Conv2d(64, 128, kernel_size=(1, 1), stride=(1, 1), bias=False)\n",
      "          (norm2): BatchNorm2d(128, eps=1e-05, momentum=0.1, affine=True, track_running_stats=True)\n",
      "          (relu2): ReLU(inplace=True)\n",
      "          (conv2): Conv2d(128, 32, kernel_size=(3, 3), stride=(1, 1), padding=(1, 1), bias=False)\n",
      "        )\n",
      "        (denselayer2): _DenseLayer(\n",
      "          (norm1): BatchNorm2d(96, eps=1e-05, momentum=0.1, affine=True, track_running_stats=True)\n",
      "          (relu1): ReLU(inplace=True)\n",
      "          (conv1): Conv2d(96, 128, kernel_size=(1, 1), stride=(1, 1), bias=False)\n",
      "          (norm2): BatchNorm2d(128, eps=1e-05, momentum=0.1, affine=True, track_running_stats=True)\n",
      "          (relu2): ReLU(inplace=True)\n",
      "          (conv2): Conv2d(128, 32, kernel_size=(3, 3), stride=(1, 1), padding=(1, 1), bias=False)\n",
      "        )\n",
      "        (denselayer3): _DenseLayer(\n",
      "          (norm1): BatchNorm2d(128, eps=1e-05, momentum=0.1, affine=True, track_running_stats=True)\n",
      "          (relu1): ReLU(inplace=True)\n",
      "          (conv1): Conv2d(128, 128, kernel_size=(1, 1), stride=(1, 1), bias=False)\n",
      "          (norm2): BatchNorm2d(128, eps=1e-05, momentum=0.1, affine=True, track_running_stats=True)\n",
      "          (relu2): ReLU(inplace=True)\n",
      "          (conv2): Conv2d(128, 32, kernel_size=(3, 3), stride=(1, 1), padding=(1, 1), bias=False)\n",
      "        )\n",
      "        (denselayer4): _DenseLayer(\n",
      "          (norm1): BatchNorm2d(160, eps=1e-05, momentum=0.1, affine=True, track_running_stats=True)\n",
      "          (relu1): ReLU(inplace=True)\n",
      "          (conv1): Conv2d(160, 128, kernel_size=(1, 1), stride=(1, 1), bias=False)\n",
      "          (norm2): BatchNorm2d(128, eps=1e-05, momentum=0.1, affine=True, track_running_stats=True)\n",
      "          (relu2): ReLU(inplace=True)\n",
      "          (conv2): Conv2d(128, 32, kernel_size=(3, 3), stride=(1, 1), padding=(1, 1), bias=False)\n",
      "        )\n",
      "        (denselayer5): _DenseLayer(\n",
      "          (norm1): BatchNorm2d(192, eps=1e-05, momentum=0.1, affine=True, track_running_stats=True)\n",
      "          (relu1): ReLU(inplace=True)\n",
      "          (conv1): Conv2d(192, 128, kernel_size=(1, 1), stride=(1, 1), bias=False)\n",
      "          (norm2): BatchNorm2d(128, eps=1e-05, momentum=0.1, affine=True, track_running_stats=True)\n",
      "          (relu2): ReLU(inplace=True)\n",
      "          (conv2): Conv2d(128, 32, kernel_size=(3, 3), stride=(1, 1), padding=(1, 1), bias=False)\n",
      "        )\n",
      "        (denselayer6): _DenseLayer(\n",
      "          (norm1): BatchNorm2d(224, eps=1e-05, momentum=0.1, affine=True, track_running_stats=True)\n",
      "          (relu1): ReLU(inplace=True)\n",
      "          (conv1): Conv2d(224, 128, kernel_size=(1, 1), stride=(1, 1), bias=False)\n",
      "          (norm2): BatchNorm2d(128, eps=1e-05, momentum=0.1, affine=True, track_running_stats=True)\n",
      "          (relu2): ReLU(inplace=True)\n",
      "          (conv2): Conv2d(128, 32, kernel_size=(3, 3), stride=(1, 1), padding=(1, 1), bias=False)\n",
      "        )\n",
      "      )\n",
      "      (transition1): _Transition(\n",
      "        (norm): BatchNorm2d(256, eps=1e-05, momentum=0.1, affine=True, track_running_stats=True)\n",
      "        (relu): ReLU(inplace=True)\n",
      "        (conv): Conv2d(256, 128, kernel_size=(1, 1), stride=(1, 1), bias=False)\n",
      "        (pool): AvgPool2d(kernel_size=2, stride=2, padding=0)\n",
      "      )\n",
      "      (denseblock2): _DenseBlock(\n",
      "        (denselayer1): _DenseLayer(\n",
      "          (norm1): BatchNorm2d(128, eps=1e-05, momentum=0.1, affine=True, track_running_stats=True)\n",
      "          (relu1): ReLU(inplace=True)\n",
      "          (conv1): Conv2d(128, 128, kernel_size=(1, 1), stride=(1, 1), bias=False)\n",
      "          (norm2): BatchNorm2d(128, eps=1e-05, momentum=0.1, affine=True, track_running_stats=True)\n",
      "          (relu2): ReLU(inplace=True)\n",
      "          (conv2): Conv2d(128, 32, kernel_size=(3, 3), stride=(1, 1), padding=(1, 1), bias=False)\n",
      "        )\n",
      "        (denselayer2): _DenseLayer(\n",
      "          (norm1): BatchNorm2d(160, eps=1e-05, momentum=0.1, affine=True, track_running_stats=True)\n",
      "          (relu1): ReLU(inplace=True)\n",
      "          (conv1): Conv2d(160, 128, kernel_size=(1, 1), stride=(1, 1), bias=False)\n",
      "          (norm2): BatchNorm2d(128, eps=1e-05, momentum=0.1, affine=True, track_running_stats=True)\n",
      "          (relu2): ReLU(inplace=True)\n",
      "          (conv2): Conv2d(128, 32, kernel_size=(3, 3), stride=(1, 1), padding=(1, 1), bias=False)\n",
      "        )\n",
      "        (denselayer3): _DenseLayer(\n",
      "          (norm1): BatchNorm2d(192, eps=1e-05, momentum=0.1, affine=True, track_running_stats=True)\n",
      "          (relu1): ReLU(inplace=True)\n",
      "          (conv1): Conv2d(192, 128, kernel_size=(1, 1), stride=(1, 1), bias=False)\n",
      "          (norm2): BatchNorm2d(128, eps=1e-05, momentum=0.1, affine=True, track_running_stats=True)\n",
      "          (relu2): ReLU(inplace=True)\n",
      "          (conv2): Conv2d(128, 32, kernel_size=(3, 3), stride=(1, 1), padding=(1, 1), bias=False)\n",
      "        )\n",
      "        (denselayer4): _DenseLayer(\n",
      "          (norm1): BatchNorm2d(224, eps=1e-05, momentum=0.1, affine=True, track_running_stats=True)\n",
      "          (relu1): ReLU(inplace=True)\n",
      "          (conv1): Conv2d(224, 128, kernel_size=(1, 1), stride=(1, 1), bias=False)\n",
      "          (norm2): BatchNorm2d(128, eps=1e-05, momentum=0.1, affine=True, track_running_stats=True)\n",
      "          (relu2): ReLU(inplace=True)\n",
      "          (conv2): Conv2d(128, 32, kernel_size=(3, 3), stride=(1, 1), padding=(1, 1), bias=False)\n",
      "        )\n",
      "        (denselayer5): _DenseLayer(\n",
      "          (norm1): BatchNorm2d(256, eps=1e-05, momentum=0.1, affine=True, track_running_stats=True)\n",
      "          (relu1): ReLU(inplace=True)\n",
      "          (conv1): Conv2d(256, 128, kernel_size=(1, 1), stride=(1, 1), bias=False)\n",
      "          (norm2): BatchNorm2d(128, eps=1e-05, momentum=0.1, affine=True, track_running_stats=True)\n",
      "          (relu2): ReLU(inplace=True)\n",
      "          (conv2): Conv2d(128, 32, kernel_size=(3, 3), stride=(1, 1), padding=(1, 1), bias=False)\n",
      "        )\n",
      "        (denselayer6): _DenseLayer(\n",
      "          (norm1): BatchNorm2d(288, eps=1e-05, momentum=0.1, affine=True, track_running_stats=True)\n",
      "          (relu1): ReLU(inplace=True)\n",
      "          (conv1): Conv2d(288, 128, kernel_size=(1, 1), stride=(1, 1), bias=False)\n",
      "          (norm2): BatchNorm2d(128, eps=1e-05, momentum=0.1, affine=True, track_running_stats=True)\n",
      "          (relu2): ReLU(inplace=True)\n",
      "          (conv2): Conv2d(128, 32, kernel_size=(3, 3), stride=(1, 1), padding=(1, 1), bias=False)\n",
      "        )\n",
      "        (denselayer7): _DenseLayer(\n",
      "          (norm1): BatchNorm2d(320, eps=1e-05, momentum=0.1, affine=True, track_running_stats=True)\n",
      "          (relu1): ReLU(inplace=True)\n",
      "          (conv1): Conv2d(320, 128, kernel_size=(1, 1), stride=(1, 1), bias=False)\n",
      "          (norm2): BatchNorm2d(128, eps=1e-05, momentum=0.1, affine=True, track_running_stats=True)\n",
      "          (relu2): ReLU(inplace=True)\n",
      "          (conv2): Conv2d(128, 32, kernel_size=(3, 3), stride=(1, 1), padding=(1, 1), bias=False)\n",
      "        )\n",
      "        (denselayer8): _DenseLayer(\n",
      "          (norm1): BatchNorm2d(352, eps=1e-05, momentum=0.1, affine=True, track_running_stats=True)\n",
      "          (relu1): ReLU(inplace=True)\n",
      "          (conv1): Conv2d(352, 128, kernel_size=(1, 1), stride=(1, 1), bias=False)\n",
      "          (norm2): BatchNorm2d(128, eps=1e-05, momentum=0.1, affine=True, track_running_stats=True)\n",
      "          (relu2): ReLU(inplace=True)\n",
      "          (conv2): Conv2d(128, 32, kernel_size=(3, 3), stride=(1, 1), padding=(1, 1), bias=False)\n",
      "        )\n",
      "        (denselayer9): _DenseLayer(\n",
      "          (norm1): BatchNorm2d(384, eps=1e-05, momentum=0.1, affine=True, track_running_stats=True)\n",
      "          (relu1): ReLU(inplace=True)\n",
      "          (conv1): Conv2d(384, 128, kernel_size=(1, 1), stride=(1, 1), bias=False)\n",
      "          (norm2): BatchNorm2d(128, eps=1e-05, momentum=0.1, affine=True, track_running_stats=True)\n",
      "          (relu2): ReLU(inplace=True)\n",
      "          (conv2): Conv2d(128, 32, kernel_size=(3, 3), stride=(1, 1), padding=(1, 1), bias=False)\n",
      "        )\n",
      "        (denselayer10): _DenseLayer(\n",
      "          (norm1): BatchNorm2d(416, eps=1e-05, momentum=0.1, affine=True, track_running_stats=True)\n",
      "          (relu1): ReLU(inplace=True)\n",
      "          (conv1): Conv2d(416, 128, kernel_size=(1, 1), stride=(1, 1), bias=False)\n",
      "          (norm2): BatchNorm2d(128, eps=1e-05, momentum=0.1, affine=True, track_running_stats=True)\n",
      "          (relu2): ReLU(inplace=True)\n",
      "          (conv2): Conv2d(128, 32, kernel_size=(3, 3), stride=(1, 1), padding=(1, 1), bias=False)\n",
      "        )\n",
      "        (denselayer11): _DenseLayer(\n",
      "          (norm1): BatchNorm2d(448, eps=1e-05, momentum=0.1, affine=True, track_running_stats=True)\n",
      "          (relu1): ReLU(inplace=True)\n",
      "          (conv1): Conv2d(448, 128, kernel_size=(1, 1), stride=(1, 1), bias=False)\n",
      "          (norm2): BatchNorm2d(128, eps=1e-05, momentum=0.1, affine=True, track_running_stats=True)\n",
      "          (relu2): ReLU(inplace=True)\n",
      "          (conv2): Conv2d(128, 32, kernel_size=(3, 3), stride=(1, 1), padding=(1, 1), bias=False)\n",
      "        )\n",
      "        (denselayer12): _DenseLayer(\n",
      "          (norm1): BatchNorm2d(480, eps=1e-05, momentum=0.1, affine=True, track_running_stats=True)\n",
      "          (relu1): ReLU(inplace=True)\n",
      "          (conv1): Conv2d(480, 128, kernel_size=(1, 1), stride=(1, 1), bias=False)\n",
      "          (norm2): BatchNorm2d(128, eps=1e-05, momentum=0.1, affine=True, track_running_stats=True)\n",
      "          (relu2): ReLU(inplace=True)\n",
      "          (conv2): Conv2d(128, 32, kernel_size=(3, 3), stride=(1, 1), padding=(1, 1), bias=False)\n",
      "        )\n",
      "      )\n",
      "      (transition2): _Transition(\n",
      "        (norm): BatchNorm2d(512, eps=1e-05, momentum=0.1, affine=True, track_running_stats=True)\n",
      "        (relu): ReLU(inplace=True)\n",
      "        (conv): Conv2d(512, 256, kernel_size=(1, 1), stride=(1, 1), bias=False)\n",
      "        (pool): AvgPool2d(kernel_size=2, stride=2, padding=0)\n",
      "      )\n",
      "      (denseblock3): _DenseBlock(\n",
      "        (denselayer1): _DenseLayer(\n",
      "          (norm1): BatchNorm2d(256, eps=1e-05, momentum=0.1, affine=True, track_running_stats=True)\n",
      "          (relu1): ReLU(inplace=True)\n",
      "          (conv1): Conv2d(256, 128, kernel_size=(1, 1), stride=(1, 1), bias=False)\n",
      "          (norm2): BatchNorm2d(128, eps=1e-05, momentum=0.1, affine=True, track_running_stats=True)\n",
      "          (relu2): ReLU(inplace=True)\n",
      "          (conv2): Conv2d(128, 32, kernel_size=(3, 3), stride=(1, 1), padding=(1, 1), bias=False)\n",
      "        )\n",
      "        (denselayer2): _DenseLayer(\n",
      "          (norm1): BatchNorm2d(288, eps=1e-05, momentum=0.1, affine=True, track_running_stats=True)\n",
      "          (relu1): ReLU(inplace=True)\n",
      "          (conv1): Conv2d(288, 128, kernel_size=(1, 1), stride=(1, 1), bias=False)\n",
      "          (norm2): BatchNorm2d(128, eps=1e-05, momentum=0.1, affine=True, track_running_stats=True)\n",
      "          (relu2): ReLU(inplace=True)\n",
      "          (conv2): Conv2d(128, 32, kernel_size=(3, 3), stride=(1, 1), padding=(1, 1), bias=False)\n",
      "        )\n",
      "        (denselayer3): _DenseLayer(\n",
      "          (norm1): BatchNorm2d(320, eps=1e-05, momentum=0.1, affine=True, track_running_stats=True)\n",
      "          (relu1): ReLU(inplace=True)\n",
      "          (conv1): Conv2d(320, 128, kernel_size=(1, 1), stride=(1, 1), bias=False)\n",
      "          (norm2): BatchNorm2d(128, eps=1e-05, momentum=0.1, affine=True, track_running_stats=True)\n",
      "          (relu2): ReLU(inplace=True)\n",
      "          (conv2): Conv2d(128, 32, kernel_size=(3, 3), stride=(1, 1), padding=(1, 1), bias=False)\n",
      "        )\n",
      "        (denselayer4): _DenseLayer(\n",
      "          (norm1): BatchNorm2d(352, eps=1e-05, momentum=0.1, affine=True, track_running_stats=True)\n",
      "          (relu1): ReLU(inplace=True)\n",
      "          (conv1): Conv2d(352, 128, kernel_size=(1, 1), stride=(1, 1), bias=False)\n",
      "          (norm2): BatchNorm2d(128, eps=1e-05, momentum=0.1, affine=True, track_running_stats=True)\n",
      "          (relu2): ReLU(inplace=True)\n",
      "          (conv2): Conv2d(128, 32, kernel_size=(3, 3), stride=(1, 1), padding=(1, 1), bias=False)\n",
      "        )\n",
      "        (denselayer5): _DenseLayer(\n",
      "          (norm1): BatchNorm2d(384, eps=1e-05, momentum=0.1, affine=True, track_running_stats=True)\n",
      "          (relu1): ReLU(inplace=True)\n",
      "          (conv1): Conv2d(384, 128, kernel_size=(1, 1), stride=(1, 1), bias=False)\n",
      "          (norm2): BatchNorm2d(128, eps=1e-05, momentum=0.1, affine=True, track_running_stats=True)\n",
      "          (relu2): ReLU(inplace=True)\n",
      "          (conv2): Conv2d(128, 32, kernel_size=(3, 3), stride=(1, 1), padding=(1, 1), bias=False)\n",
      "        )\n",
      "        (denselayer6): _DenseLayer(\n",
      "          (norm1): BatchNorm2d(416, eps=1e-05, momentum=0.1, affine=True, track_running_stats=True)\n",
      "          (relu1): ReLU(inplace=True)\n",
      "          (conv1): Conv2d(416, 128, kernel_size=(1, 1), stride=(1, 1), bias=False)\n",
      "          (norm2): BatchNorm2d(128, eps=1e-05, momentum=0.1, affine=True, track_running_stats=True)\n",
      "          (relu2): ReLU(inplace=True)\n",
      "          (conv2): Conv2d(128, 32, kernel_size=(3, 3), stride=(1, 1), padding=(1, 1), bias=False)\n",
      "        )\n",
      "        (denselayer7): _DenseLayer(\n",
      "          (norm1): BatchNorm2d(448, eps=1e-05, momentum=0.1, affine=True, track_running_stats=True)\n",
      "          (relu1): ReLU(inplace=True)\n",
      "          (conv1): Conv2d(448, 128, kernel_size=(1, 1), stride=(1, 1), bias=False)\n",
      "          (norm2): BatchNorm2d(128, eps=1e-05, momentum=0.1, affine=True, track_running_stats=True)\n",
      "          (relu2): ReLU(inplace=True)\n",
      "          (conv2): Conv2d(128, 32, kernel_size=(3, 3), stride=(1, 1), padding=(1, 1), bias=False)\n",
      "        )\n",
      "        (denselayer8): _DenseLayer(\n",
      "          (norm1): BatchNorm2d(480, eps=1e-05, momentum=0.1, affine=True, track_running_stats=True)\n",
      "          (relu1): ReLU(inplace=True)\n",
      "          (conv1): Conv2d(480, 128, kernel_size=(1, 1), stride=(1, 1), bias=False)\n",
      "          (norm2): BatchNorm2d(128, eps=1e-05, momentum=0.1, affine=True, track_running_stats=True)\n",
      "          (relu2): ReLU(inplace=True)\n",
      "          (conv2): Conv2d(128, 32, kernel_size=(3, 3), stride=(1, 1), padding=(1, 1), bias=False)\n",
      "        )\n",
      "        (denselayer9): _DenseLayer(\n",
      "          (norm1): BatchNorm2d(512, eps=1e-05, momentum=0.1, affine=True, track_running_stats=True)\n",
      "          (relu1): ReLU(inplace=True)\n",
      "          (conv1): Conv2d(512, 128, kernel_size=(1, 1), stride=(1, 1), bias=False)\n",
      "          (norm2): BatchNorm2d(128, eps=1e-05, momentum=0.1, affine=True, track_running_stats=True)\n",
      "          (relu2): ReLU(inplace=True)\n",
      "          (conv2): Conv2d(128, 32, kernel_size=(3, 3), stride=(1, 1), padding=(1, 1), bias=False)\n",
      "        )\n",
      "        (denselayer10): _DenseLayer(\n",
      "          (norm1): BatchNorm2d(544, eps=1e-05, momentum=0.1, affine=True, track_running_stats=True)\n",
      "          (relu1): ReLU(inplace=True)\n",
      "          (conv1): Conv2d(544, 128, kernel_size=(1, 1), stride=(1, 1), bias=False)\n",
      "          (norm2): BatchNorm2d(128, eps=1e-05, momentum=0.1, affine=True, track_running_stats=True)\n",
      "          (relu2): ReLU(inplace=True)\n",
      "          (conv2): Conv2d(128, 32, kernel_size=(3, 3), stride=(1, 1), padding=(1, 1), bias=False)\n",
      "        )\n",
      "        (denselayer11): _DenseLayer(\n",
      "          (norm1): BatchNorm2d(576, eps=1e-05, momentum=0.1, affine=True, track_running_stats=True)\n",
      "          (relu1): ReLU(inplace=True)\n",
      "          (conv1): Conv2d(576, 128, kernel_size=(1, 1), stride=(1, 1), bias=False)\n",
      "          (norm2): BatchNorm2d(128, eps=1e-05, momentum=0.1, affine=True, track_running_stats=True)\n",
      "          (relu2): ReLU(inplace=True)\n",
      "          (conv2): Conv2d(128, 32, kernel_size=(3, 3), stride=(1, 1), padding=(1, 1), bias=False)\n",
      "        )\n",
      "        (denselayer12): _DenseLayer(\n",
      "          (norm1): BatchNorm2d(608, eps=1e-05, momentum=0.1, affine=True, track_running_stats=True)\n",
      "          (relu1): ReLU(inplace=True)\n",
      "          (conv1): Conv2d(608, 128, kernel_size=(1, 1), stride=(1, 1), bias=False)\n",
      "          (norm2): BatchNorm2d(128, eps=1e-05, momentum=0.1, affine=True, track_running_stats=True)\n",
      "          (relu2): ReLU(inplace=True)\n",
      "          (conv2): Conv2d(128, 32, kernel_size=(3, 3), stride=(1, 1), padding=(1, 1), bias=False)\n",
      "        )\n",
      "        (denselayer13): _DenseLayer(\n",
      "          (norm1): BatchNorm2d(640, eps=1e-05, momentum=0.1, affine=True, track_running_stats=True)\n",
      "          (relu1): ReLU(inplace=True)\n",
      "          (conv1): Conv2d(640, 128, kernel_size=(1, 1), stride=(1, 1), bias=False)\n",
      "          (norm2): BatchNorm2d(128, eps=1e-05, momentum=0.1, affine=True, track_running_stats=True)\n",
      "          (relu2): ReLU(inplace=True)\n",
      "          (conv2): Conv2d(128, 32, kernel_size=(3, 3), stride=(1, 1), padding=(1, 1), bias=False)\n",
      "        )\n",
      "        (denselayer14): _DenseLayer(\n",
      "          (norm1): BatchNorm2d(672, eps=1e-05, momentum=0.1, affine=True, track_running_stats=True)\n",
      "          (relu1): ReLU(inplace=True)\n",
      "          (conv1): Conv2d(672, 128, kernel_size=(1, 1), stride=(1, 1), bias=False)\n",
      "          (norm2): BatchNorm2d(128, eps=1e-05, momentum=0.1, affine=True, track_running_stats=True)\n",
      "          (relu2): ReLU(inplace=True)\n",
      "          (conv2): Conv2d(128, 32, kernel_size=(3, 3), stride=(1, 1), padding=(1, 1), bias=False)\n",
      "        )\n",
      "        (denselayer15): _DenseLayer(\n",
      "          (norm1): BatchNorm2d(704, eps=1e-05, momentum=0.1, affine=True, track_running_stats=True)\n",
      "          (relu1): ReLU(inplace=True)\n",
      "          (conv1): Conv2d(704, 128, kernel_size=(1, 1), stride=(1, 1), bias=False)\n",
      "          (norm2): BatchNorm2d(128, eps=1e-05, momentum=0.1, affine=True, track_running_stats=True)\n",
      "          (relu2): ReLU(inplace=True)\n",
      "          (conv2): Conv2d(128, 32, kernel_size=(3, 3), stride=(1, 1), padding=(1, 1), bias=False)\n",
      "        )\n",
      "        (denselayer16): _DenseLayer(\n",
      "          (norm1): BatchNorm2d(736, eps=1e-05, momentum=0.1, affine=True, track_running_stats=True)\n",
      "          (relu1): ReLU(inplace=True)\n",
      "          (conv1): Conv2d(736, 128, kernel_size=(1, 1), stride=(1, 1), bias=False)\n",
      "          (norm2): BatchNorm2d(128, eps=1e-05, momentum=0.1, affine=True, track_running_stats=True)\n",
      "          (relu2): ReLU(inplace=True)\n",
      "          (conv2): Conv2d(128, 32, kernel_size=(3, 3), stride=(1, 1), padding=(1, 1), bias=False)\n",
      "        )\n",
      "        (denselayer17): _DenseLayer(\n",
      "          (norm1): BatchNorm2d(768, eps=1e-05, momentum=0.1, affine=True, track_running_stats=True)\n",
      "          (relu1): ReLU(inplace=True)\n",
      "          (conv1): Conv2d(768, 128, kernel_size=(1, 1), stride=(1, 1), bias=False)\n",
      "          (norm2): BatchNorm2d(128, eps=1e-05, momentum=0.1, affine=True, track_running_stats=True)\n",
      "          (relu2): ReLU(inplace=True)\n",
      "          (conv2): Conv2d(128, 32, kernel_size=(3, 3), stride=(1, 1), padding=(1, 1), bias=False)\n",
      "        )\n",
      "        (denselayer18): _DenseLayer(\n",
      "          (norm1): BatchNorm2d(800, eps=1e-05, momentum=0.1, affine=True, track_running_stats=True)\n",
      "          (relu1): ReLU(inplace=True)\n",
      "          (conv1): Conv2d(800, 128, kernel_size=(1, 1), stride=(1, 1), bias=False)\n",
      "          (norm2): BatchNorm2d(128, eps=1e-05, momentum=0.1, affine=True, track_running_stats=True)\n",
      "          (relu2): ReLU(inplace=True)\n",
      "          (conv2): Conv2d(128, 32, kernel_size=(3, 3), stride=(1, 1), padding=(1, 1), bias=False)\n",
      "        )\n",
      "        (denselayer19): _DenseLayer(\n",
      "          (norm1): BatchNorm2d(832, eps=1e-05, momentum=0.1, affine=True, track_running_stats=True)\n",
      "          (relu1): ReLU(inplace=True)\n",
      "          (conv1): Conv2d(832, 128, kernel_size=(1, 1), stride=(1, 1), bias=False)\n",
      "          (norm2): BatchNorm2d(128, eps=1e-05, momentum=0.1, affine=True, track_running_stats=True)\n",
      "          (relu2): ReLU(inplace=True)\n",
      "          (conv2): Conv2d(128, 32, kernel_size=(3, 3), stride=(1, 1), padding=(1, 1), bias=False)\n",
      "        )\n",
      "        (denselayer20): _DenseLayer(\n",
      "          (norm1): BatchNorm2d(864, eps=1e-05, momentum=0.1, affine=True, track_running_stats=True)\n",
      "          (relu1): ReLU(inplace=True)\n",
      "          (conv1): Conv2d(864, 128, kernel_size=(1, 1), stride=(1, 1), bias=False)\n",
      "          (norm2): BatchNorm2d(128, eps=1e-05, momentum=0.1, affine=True, track_running_stats=True)\n",
      "          (relu2): ReLU(inplace=True)\n",
      "          (conv2): Conv2d(128, 32, kernel_size=(3, 3), stride=(1, 1), padding=(1, 1), bias=False)\n",
      "        )\n",
      "        (denselayer21): _DenseLayer(\n",
      "          (norm1): BatchNorm2d(896, eps=1e-05, momentum=0.1, affine=True, track_running_stats=True)\n",
      "          (relu1): ReLU(inplace=True)\n",
      "          (conv1): Conv2d(896, 128, kernel_size=(1, 1), stride=(1, 1), bias=False)\n",
      "          (norm2): BatchNorm2d(128, eps=1e-05, momentum=0.1, affine=True, track_running_stats=True)\n",
      "          (relu2): ReLU(inplace=True)\n",
      "          (conv2): Conv2d(128, 32, kernel_size=(3, 3), stride=(1, 1), padding=(1, 1), bias=False)\n",
      "        )\n",
      "        (denselayer22): _DenseLayer(\n",
      "          (norm1): BatchNorm2d(928, eps=1e-05, momentum=0.1, affine=True, track_running_stats=True)\n",
      "          (relu1): ReLU(inplace=True)\n",
      "          (conv1): Conv2d(928, 128, kernel_size=(1, 1), stride=(1, 1), bias=False)\n",
      "          (norm2): BatchNorm2d(128, eps=1e-05, momentum=0.1, affine=True, track_running_stats=True)\n",
      "          (relu2): ReLU(inplace=True)\n",
      "          (conv2): Conv2d(128, 32, kernel_size=(3, 3), stride=(1, 1), padding=(1, 1), bias=False)\n",
      "        )\n",
      "        (denselayer23): _DenseLayer(\n",
      "          (norm1): BatchNorm2d(960, eps=1e-05, momentum=0.1, affine=True, track_running_stats=True)\n",
      "          (relu1): ReLU(inplace=True)\n",
      "          (conv1): Conv2d(960, 128, kernel_size=(1, 1), stride=(1, 1), bias=False)\n",
      "          (norm2): BatchNorm2d(128, eps=1e-05, momentum=0.1, affine=True, track_running_stats=True)\n",
      "          (relu2): ReLU(inplace=True)\n",
      "          (conv2): Conv2d(128, 32, kernel_size=(3, 3), stride=(1, 1), padding=(1, 1), bias=False)\n",
      "        )\n",
      "        (denselayer24): _DenseLayer(\n",
      "          (norm1): BatchNorm2d(992, eps=1e-05, momentum=0.1, affine=True, track_running_stats=True)\n",
      "          (relu1): ReLU(inplace=True)\n",
      "          (conv1): Conv2d(992, 128, kernel_size=(1, 1), stride=(1, 1), bias=False)\n",
      "          (norm2): BatchNorm2d(128, eps=1e-05, momentum=0.1, affine=True, track_running_stats=True)\n",
      "          (relu2): ReLU(inplace=True)\n",
      "          (conv2): Conv2d(128, 32, kernel_size=(3, 3), stride=(1, 1), padding=(1, 1), bias=False)\n",
      "        )\n",
      "      )\n",
      "      (transition3): _Transition(\n",
      "        (norm): BatchNorm2d(1024, eps=1e-05, momentum=0.1, affine=True, track_running_stats=True)\n",
      "        (relu): ReLU(inplace=True)\n",
      "        (conv): Conv2d(1024, 512, kernel_size=(1, 1), stride=(1, 1), bias=False)\n",
      "        (pool): AvgPool2d(kernel_size=2, stride=2, padding=0)\n",
      "      )\n",
      "      (denseblock4): _DenseBlock(\n",
      "        (denselayer1): _DenseLayer(\n",
      "          (norm1): BatchNorm2d(512, eps=1e-05, momentum=0.1, affine=True, track_running_stats=True)\n",
      "          (relu1): ReLU(inplace=True)\n",
      "          (conv1): Conv2d(512, 128, kernel_size=(1, 1), stride=(1, 1), bias=False)\n",
      "          (norm2): BatchNorm2d(128, eps=1e-05, momentum=0.1, affine=True, track_running_stats=True)\n",
      "          (relu2): ReLU(inplace=True)\n",
      "          (conv2): Conv2d(128, 32, kernel_size=(3, 3), stride=(1, 1), padding=(1, 1), bias=False)\n",
      "        )\n",
      "        (denselayer2): _DenseLayer(\n",
      "          (norm1): BatchNorm2d(544, eps=1e-05, momentum=0.1, affine=True, track_running_stats=True)\n",
      "          (relu1): ReLU(inplace=True)\n",
      "          (conv1): Conv2d(544, 128, kernel_size=(1, 1), stride=(1, 1), bias=False)\n",
      "          (norm2): BatchNorm2d(128, eps=1e-05, momentum=0.1, affine=True, track_running_stats=True)\n",
      "          (relu2): ReLU(inplace=True)\n",
      "          (conv2): Conv2d(128, 32, kernel_size=(3, 3), stride=(1, 1), padding=(1, 1), bias=False)\n",
      "        )\n",
      "        (denselayer3): _DenseLayer(\n",
      "          (norm1): BatchNorm2d(576, eps=1e-05, momentum=0.1, affine=True, track_running_stats=True)\n",
      "          (relu1): ReLU(inplace=True)\n",
      "          (conv1): Conv2d(576, 128, kernel_size=(1, 1), stride=(1, 1), bias=False)\n",
      "          (norm2): BatchNorm2d(128, eps=1e-05, momentum=0.1, affine=True, track_running_stats=True)\n",
      "          (relu2): ReLU(inplace=True)\n",
      "          (conv2): Conv2d(128, 32, kernel_size=(3, 3), stride=(1, 1), padding=(1, 1), bias=False)\n",
      "        )\n",
      "        (denselayer4): _DenseLayer(\n",
      "          (norm1): BatchNorm2d(608, eps=1e-05, momentum=0.1, affine=True, track_running_stats=True)\n",
      "          (relu1): ReLU(inplace=True)\n",
      "          (conv1): Conv2d(608, 128, kernel_size=(1, 1), stride=(1, 1), bias=False)\n",
      "          (norm2): BatchNorm2d(128, eps=1e-05, momentum=0.1, affine=True, track_running_stats=True)\n",
      "          (relu2): ReLU(inplace=True)\n",
      "          (conv2): Conv2d(128, 32, kernel_size=(3, 3), stride=(1, 1), padding=(1, 1), bias=False)\n",
      "        )\n",
      "        (denselayer5): _DenseLayer(\n",
      "          (norm1): BatchNorm2d(640, eps=1e-05, momentum=0.1, affine=True, track_running_stats=True)\n",
      "          (relu1): ReLU(inplace=True)\n",
      "          (conv1): Conv2d(640, 128, kernel_size=(1, 1), stride=(1, 1), bias=False)\n",
      "          (norm2): BatchNorm2d(128, eps=1e-05, momentum=0.1, affine=True, track_running_stats=True)\n",
      "          (relu2): ReLU(inplace=True)\n",
      "          (conv2): Conv2d(128, 32, kernel_size=(3, 3), stride=(1, 1), padding=(1, 1), bias=False)\n",
      "        )\n",
      "        (denselayer6): _DenseLayer(\n",
      "          (norm1): BatchNorm2d(672, eps=1e-05, momentum=0.1, affine=True, track_running_stats=True)\n",
      "          (relu1): ReLU(inplace=True)\n",
      "          (conv1): Conv2d(672, 128, kernel_size=(1, 1), stride=(1, 1), bias=False)\n",
      "          (norm2): BatchNorm2d(128, eps=1e-05, momentum=0.1, affine=True, track_running_stats=True)\n",
      "          (relu2): ReLU(inplace=True)\n",
      "          (conv2): Conv2d(128, 32, kernel_size=(3, 3), stride=(1, 1), padding=(1, 1), bias=False)\n",
      "        )\n",
      "        (denselayer7): _DenseLayer(\n",
      "          (norm1): BatchNorm2d(704, eps=1e-05, momentum=0.1, affine=True, track_running_stats=True)\n",
      "          (relu1): ReLU(inplace=True)\n",
      "          (conv1): Conv2d(704, 128, kernel_size=(1, 1), stride=(1, 1), bias=False)\n",
      "          (norm2): BatchNorm2d(128, eps=1e-05, momentum=0.1, affine=True, track_running_stats=True)\n",
      "          (relu2): ReLU(inplace=True)\n",
      "          (conv2): Conv2d(128, 32, kernel_size=(3, 3), stride=(1, 1), padding=(1, 1), bias=False)\n",
      "        )\n",
      "        (denselayer8): _DenseLayer(\n",
      "          (norm1): BatchNorm2d(736, eps=1e-05, momentum=0.1, affine=True, track_running_stats=True)\n",
      "          (relu1): ReLU(inplace=True)\n",
      "          (conv1): Conv2d(736, 128, kernel_size=(1, 1), stride=(1, 1), bias=False)\n",
      "          (norm2): BatchNorm2d(128, eps=1e-05, momentum=0.1, affine=True, track_running_stats=True)\n",
      "          (relu2): ReLU(inplace=True)\n",
      "          (conv2): Conv2d(128, 32, kernel_size=(3, 3), stride=(1, 1), padding=(1, 1), bias=False)\n",
      "        )\n",
      "        (denselayer9): _DenseLayer(\n",
      "          (norm1): BatchNorm2d(768, eps=1e-05, momentum=0.1, affine=True, track_running_stats=True)\n",
      "          (relu1): ReLU(inplace=True)\n",
      "          (conv1): Conv2d(768, 128, kernel_size=(1, 1), stride=(1, 1), bias=False)\n",
      "          (norm2): BatchNorm2d(128, eps=1e-05, momentum=0.1, affine=True, track_running_stats=True)\n",
      "          (relu2): ReLU(inplace=True)\n",
      "          (conv2): Conv2d(128, 32, kernel_size=(3, 3), stride=(1, 1), padding=(1, 1), bias=False)\n",
      "        )\n",
      "        (denselayer10): _DenseLayer(\n",
      "          (norm1): BatchNorm2d(800, eps=1e-05, momentum=0.1, affine=True, track_running_stats=True)\n",
      "          (relu1): ReLU(inplace=True)\n",
      "          (conv1): Conv2d(800, 128, kernel_size=(1, 1), stride=(1, 1), bias=False)\n",
      "          (norm2): BatchNorm2d(128, eps=1e-05, momentum=0.1, affine=True, track_running_stats=True)\n",
      "          (relu2): ReLU(inplace=True)\n",
      "          (conv2): Conv2d(128, 32, kernel_size=(3, 3), stride=(1, 1), padding=(1, 1), bias=False)\n",
      "        )\n",
      "        (denselayer11): _DenseLayer(\n",
      "          (norm1): BatchNorm2d(832, eps=1e-05, momentum=0.1, affine=True, track_running_stats=True)\n",
      "          (relu1): ReLU(inplace=True)\n",
      "          (conv1): Conv2d(832, 128, kernel_size=(1, 1), stride=(1, 1), bias=False)\n",
      "          (norm2): BatchNorm2d(128, eps=1e-05, momentum=0.1, affine=True, track_running_stats=True)\n",
      "          (relu2): ReLU(inplace=True)\n",
      "          (conv2): Conv2d(128, 32, kernel_size=(3, 3), stride=(1, 1), padding=(1, 1), bias=False)\n",
      "        )\n",
      "        (denselayer12): _DenseLayer(\n",
      "          (norm1): BatchNorm2d(864, eps=1e-05, momentum=0.1, affine=True, track_running_stats=True)\n",
      "          (relu1): ReLU(inplace=True)\n",
      "          (conv1): Conv2d(864, 128, kernel_size=(1, 1), stride=(1, 1), bias=False)\n",
      "          (norm2): BatchNorm2d(128, eps=1e-05, momentum=0.1, affine=True, track_running_stats=True)\n",
      "          (relu2): ReLU(inplace=True)\n",
      "          (conv2): Conv2d(128, 32, kernel_size=(3, 3), stride=(1, 1), padding=(1, 1), bias=False)\n",
      "        )\n",
      "        (denselayer13): _DenseLayer(\n",
      "          (norm1): BatchNorm2d(896, eps=1e-05, momentum=0.1, affine=True, track_running_stats=True)\n",
      "          (relu1): ReLU(inplace=True)\n",
      "          (conv1): Conv2d(896, 128, kernel_size=(1, 1), stride=(1, 1), bias=False)\n",
      "          (norm2): BatchNorm2d(128, eps=1e-05, momentum=0.1, affine=True, track_running_stats=True)\n",
      "          (relu2): ReLU(inplace=True)\n",
      "          (conv2): Conv2d(128, 32, kernel_size=(3, 3), stride=(1, 1), padding=(1, 1), bias=False)\n",
      "        )\n",
      "        (denselayer14): _DenseLayer(\n",
      "          (norm1): BatchNorm2d(928, eps=1e-05, momentum=0.1, affine=True, track_running_stats=True)\n",
      "          (relu1): ReLU(inplace=True)\n",
      "          (conv1): Conv2d(928, 128, kernel_size=(1, 1), stride=(1, 1), bias=False)\n",
      "          (norm2): BatchNorm2d(128, eps=1e-05, momentum=0.1, affine=True, track_running_stats=True)\n",
      "          (relu2): ReLU(inplace=True)\n",
      "          (conv2): Conv2d(128, 32, kernel_size=(3, 3), stride=(1, 1), padding=(1, 1), bias=False)\n",
      "        )\n",
      "        (denselayer15): _DenseLayer(\n",
      "          (norm1): BatchNorm2d(960, eps=1e-05, momentum=0.1, affine=True, track_running_stats=True)\n",
      "          (relu1): ReLU(inplace=True)\n",
      "          (conv1): Conv2d(960, 128, kernel_size=(1, 1), stride=(1, 1), bias=False)\n",
      "          (norm2): BatchNorm2d(128, eps=1e-05, momentum=0.1, affine=True, track_running_stats=True)\n",
      "          (relu2): ReLU(inplace=True)\n",
      "          (conv2): Conv2d(128, 32, kernel_size=(3, 3), stride=(1, 1), padding=(1, 1), bias=False)\n",
      "        )\n",
      "        (denselayer16): _DenseLayer(\n",
      "          (norm1): BatchNorm2d(992, eps=1e-05, momentum=0.1, affine=True, track_running_stats=True)\n",
      "          (relu1): ReLU(inplace=True)\n",
      "          (conv1): Conv2d(992, 128, kernel_size=(1, 1), stride=(1, 1), bias=False)\n",
      "          (norm2): BatchNorm2d(128, eps=1e-05, momentum=0.1, affine=True, track_running_stats=True)\n",
      "          (relu2): ReLU(inplace=True)\n",
      "          (conv2): Conv2d(128, 32, kernel_size=(3, 3), stride=(1, 1), padding=(1, 1), bias=False)\n",
      "        )\n",
      "      )\n",
      "      (norm5): BatchNorm2d(1024, eps=1e-05, momentum=0.1, affine=True, track_running_stats=True)\n",
      "    )\n",
      "    (classifier): Linear(in_features=1024, out_features=13, bias=True)\n",
      "  )\n",
      ")\n"
     ]
    }
   ],
   "source": [
    "print(model)\n",
    "#outfeatures和你需要分的类一致"
   ]
  },
  {
   "cell_type": "code",
   "execution_count": null,
   "metadata": {
    "id": "xWPX3Gem64a9"
   },
   "outputs": [],
   "source": [
    "# 定义损失函数\n",
    "criterion = nn.CrossEntropyLoss().cuda()\n",
    "# 定义优化器\n",
    "optimizer = torch.optim.SGD(model.parameters(),\n",
    "                            0.001, # learning rate 最重要的超参数之一\n",
    "                            momentum = 0.9,\n",
    "                            weight_decay = 1e-4)"
   ]
  },
  {
   "cell_type": "markdown",
   "metadata": {
    "id": "_inyft5069ka"
   },
   "source": [
    "## 准备训练数据"
   ]
  },
  {
   "cell_type": "code",
   "execution_count": null,
   "metadata": {
    "colab": {
     "base_uri": "https://localhost:8080/",
     "height": 111
    },
    "executionInfo": {
     "elapsed": 6,
     "status": "ok",
     "timestamp": 1685410376906,
     "user": {
      "displayName": "Aria C",
      "userId": "13309219771091978768"
     },
     "user_tz": -480
    },
    "id": "16x_3dzj68-d",
    "outputId": "075013c4-38f9-49fb-c71a-d80f4cda31ab"
   },
   "outputs": [
    {
     "data": {
      "text/html": [
       "\n",
       "  <div id=\"df-50e87578-9ffd-4a45-abb1-3d6ba60639bc\">\n",
       "    <div class=\"colab-df-container\">\n",
       "      <div>\n",
       "<style scoped>\n",
       "    .dataframe tbody tr th:only-of-type {\n",
       "        vertical-align: middle;\n",
       "    }\n",
       "\n",
       "    .dataframe tbody tr th {\n",
       "        vertical-align: top;\n",
       "    }\n",
       "\n",
       "    .dataframe thead th {\n",
       "        text-align: right;\n",
       "    }\n",
       "</style>\n",
       "<table border=\"1\" class=\"dataframe\">\n",
       "  <thead>\n",
       "    <tr style=\"text-align: right;\">\n",
       "      <th></th>\n",
       "      <th>gid</th>\n",
       "      <th>label</th>\n",
       "      <th>split</th>\n",
       "      <th>path</th>\n",
       "    </tr>\n",
       "  </thead>\n",
       "  <tbody>\n",
       "    <tr>\n",
       "      <th>222</th>\n",
       "      <td>0-Colonial architecture-242</td>\n",
       "      <td>0</td>\n",
       "      <td>train</td>\n",
       "      <td>/content/gdrive/MyDrive/T_ML/0-try1-13styles/n...</td>\n",
       "    </tr>\n",
       "    <tr>\n",
       "      <th>633</th>\n",
       "      <td>1-Georgian architecture-3</td>\n",
       "      <td>1</td>\n",
       "      <td>train</td>\n",
       "      <td>/content/gdrive/MyDrive/T_ML/0-try1-13styles/n...</td>\n",
       "    </tr>\n",
       "  </tbody>\n",
       "</table>\n",
       "</div>\n",
       "      <button class=\"colab-df-convert\" onclick=\"convertToInteractive('df-50e87578-9ffd-4a45-abb1-3d6ba60639bc')\"\n",
       "              title=\"Convert this dataframe to an interactive table.\"\n",
       "              style=\"display:none;\">\n",
       "        \n",
       "  <svg xmlns=\"http://www.w3.org/2000/svg\" height=\"24px\"viewBox=\"0 0 24 24\"\n",
       "       width=\"24px\">\n",
       "    <path d=\"M0 0h24v24H0V0z\" fill=\"none\"/>\n",
       "    <path d=\"M18.56 5.44l.94 2.06.94-2.06 2.06-.94-2.06-.94-.94-2.06-.94 2.06-2.06.94zm-11 1L8.5 8.5l.94-2.06 2.06-.94-2.06-.94L8.5 2.5l-.94 2.06-2.06.94zm10 10l.94 2.06.94-2.06 2.06-.94-2.06-.94-.94-2.06-.94 2.06-2.06.94z\"/><path d=\"M17.41 7.96l-1.37-1.37c-.4-.4-.92-.59-1.43-.59-.52 0-1.04.2-1.43.59L10.3 9.45l-7.72 7.72c-.78.78-.78 2.05 0 2.83L4 21.41c.39.39.9.59 1.41.59.51 0 1.02-.2 1.41-.59l7.78-7.78 2.81-2.81c.8-.78.8-2.07 0-2.86zM5.41 20L4 18.59l7.72-7.72 1.47 1.35L5.41 20z\"/>\n",
       "  </svg>\n",
       "      </button>\n",
       "      \n",
       "  <style>\n",
       "    .colab-df-container {\n",
       "      display:flex;\n",
       "      flex-wrap:wrap;\n",
       "      gap: 12px;\n",
       "    }\n",
       "\n",
       "    .colab-df-convert {\n",
       "      background-color: #E8F0FE;\n",
       "      border: none;\n",
       "      border-radius: 50%;\n",
       "      cursor: pointer;\n",
       "      display: none;\n",
       "      fill: #1967D2;\n",
       "      height: 32px;\n",
       "      padding: 0 0 0 0;\n",
       "      width: 32px;\n",
       "    }\n",
       "\n",
       "    .colab-df-convert:hover {\n",
       "      background-color: #E2EBFA;\n",
       "      box-shadow: 0px 1px 2px rgba(60, 64, 67, 0.3), 0px 1px 3px 1px rgba(60, 64, 67, 0.15);\n",
       "      fill: #174EA6;\n",
       "    }\n",
       "\n",
       "    [theme=dark] .colab-df-convert {\n",
       "      background-color: #3B4455;\n",
       "      fill: #D2E3FC;\n",
       "    }\n",
       "\n",
       "    [theme=dark] .colab-df-convert:hover {\n",
       "      background-color: #434B5C;\n",
       "      box-shadow: 0px 1px 3px 1px rgba(0, 0, 0, 0.15);\n",
       "      filter: drop-shadow(0px 1px 2px rgba(0, 0, 0, 0.3));\n",
       "      fill: #FFFFFF;\n",
       "    }\n",
       "  </style>\n",
       "\n",
       "      <script>\n",
       "        const buttonEl =\n",
       "          document.querySelector('#df-50e87578-9ffd-4a45-abb1-3d6ba60639bc button.colab-df-convert');\n",
       "        buttonEl.style.display =\n",
       "          google.colab.kernel.accessAllowed ? 'block' : 'none';\n",
       "\n",
       "        async function convertToInteractive(key) {\n",
       "          const element = document.querySelector('#df-50e87578-9ffd-4a45-abb1-3d6ba60639bc');\n",
       "          const dataTable =\n",
       "            await google.colab.kernel.invokeFunction('convertToInteractive',\n",
       "                                                     [key], {});\n",
       "          if (!dataTable) return;\n",
       "\n",
       "          const docLinkHtml = 'Like what you see? Visit the ' +\n",
       "            '<a target=\"_blank\" href=https://colab.research.google.com/notebooks/data_table.ipynb>data table notebook</a>'\n",
       "            + ' to learn more about interactive tables.';\n",
       "          element.innerHTML = '';\n",
       "          dataTable['output_type'] = 'display_data';\n",
       "          await google.colab.output.renderOutput(dataTable, element);\n",
       "          const docLink = document.createElement('div');\n",
       "          docLink.innerHTML = docLinkHtml;\n",
       "          element.appendChild(docLink);\n",
       "        }\n",
       "      </script>\n",
       "    </div>\n",
       "  </div>\n",
       "  "
      ],
      "text/plain": [
       "                             gid  label  split  \\\n",
       "222  0-Colonial architecture-242      0  train   \n",
       "633    1-Georgian architecture-3      1  train   \n",
       "\n",
       "                                                  path  \n",
       "222  /content/gdrive/MyDrive/T_ML/0-try1-13styles/n...  \n",
       "633  /content/gdrive/MyDrive/T_ML/0-try1-13styles/n...  "
      ]
     },
     "execution_count": 18,
     "metadata": {},
     "output_type": "execute_result"
    }
   ],
   "source": [
    "dataDF = pd.read_pickle(\"5311_50epoch_13styles_v0.p\")\n",
    "dataDF.head(2)"
   ]
  },
  {
   "cell_type": "code",
   "execution_count": null,
   "metadata": {
    "id": "AFfctR7y7HDf"
   },
   "outputs": [],
   "source": [
    "trainDF = dataDF[dataDF['split']=='train']\n",
    "valDF = dataDF[dataDF['split']=='val'] "
   ]
  },
  {
   "cell_type": "code",
   "execution_count": null,
   "metadata": {
    "id": "ALfFJIvh7JVK"
   },
   "outputs": [],
   "source": [
    "# 图片预处理\n",
    "tf = trn.Compose([\n",
    "    trn.Resize([224, 224]),\n",
    "    trn.ToTensor(),\n",
    "    trn.Normalize([0.485, 0.456, 0.406], [0.229, 0.224, 0.225])])"
   ]
  },
  {
   "cell_type": "code",
   "execution_count": null,
   "metadata": {
    "id": "KWNwwJy17MKi"
   },
   "outputs": [],
   "source": [
    "# 创建数据集\n",
    "class Dataset(data.Dataset):\n",
    "    def __init__(self, imgPathList, labelList, transform):\n",
    "        self.imgPathList = imgPathList\n",
    "        self.labelList = labelList\n",
    "        self.transform = transform\n",
    "    def __getitem__(self, index):\n",
    "        # 得到图片\n",
    "        img_path = self.imgPathList[index]\n",
    "        image = Image.open(img_path).convert(\"RGB\")\n",
    "        # 预处理图片\n",
    "        image = self.transform(image)\n",
    "        \n",
    "        # 得到label\n",
    "        label = self.labelList[index]\n",
    "        \n",
    "        return (image, label)\n",
    "    def __len__(self):\n",
    "        return len(self.labelList)"
   ]
  },
  {
   "cell_type": "code",
   "execution_count": null,
   "metadata": {
    "id": "KB0UKcHC7Opz"
   },
   "outputs": [],
   "source": [
    "# 创建数据集\n",
    "trainDataset = Dataset(trainDF['path'].tolist(), np.array(trainDF['label']), tf)\n",
    "valDataset = Dataset(valDF['path'].tolist(), np.array(valDF['label']), tf)"
   ]
  },
  {
   "cell_type": "code",
   "execution_count": null,
   "metadata": {
    "id": "bIaLTlVc7RHN"
   },
   "outputs": [],
   "source": [
    "# 创建数据加载器\n",
    "# shuffle表示每次打乱顺序传入\n",
    "# num_workers 设置的越大 内存就越大\n",
    "\n",
    "batchsize = 16 #有影响的超参数，一般按照2的指数幂设定\n",
    "trainLoader = data.DataLoader(trainDataset,\n",
    "                              batch_size = batchsize,\n",
    "                              shuffle=True,\n",
    "                              num_workers=1)\n",
    "valLoader = data.DataLoader(valDataset,\n",
    "                              batch_size = batchsize,\n",
    "                              shuffle=True,\n",
    "                              num_workers=1)"
   ]
  },
  {
   "cell_type": "code",
   "execution_count": null,
   "metadata": {
    "colab": {
     "base_uri": "https://localhost:8080/"
    },
    "executionInfo": {
     "elapsed": 14892,
     "status": "ok",
     "timestamp": 1685410406062,
     "user": {
      "displayName": "Aria C",
      "userId": "13309219771091978768"
     },
     "user_tz": -480
    },
    "id": "4RWyOWUy7Wdr",
    "outputId": "b615e362-8e73-4413-ea68-3070d656a5a0"
   },
   "outputs": [
    {
     "name": "stdout",
     "output_type": "stream",
     "text": [
      "torch.Size([16, 3, 224, 224])\n",
      "torch.Size([16])\n"
     ]
    }
   ],
   "source": [
    "for idx, (x, y_true) in enumerate(trainLoader):\n",
    "    print(x.shape)\n",
    "    print(y_true.shape)\n",
    "    break\n",
    "\n",
    "#1 是前面的batch size，每次加载出的样本\n",
    "#3：RGB三个通道 244 244是前面的图片处理尺寸"
   ]
  },
  {
   "cell_type": "markdown",
   "metadata": {
    "id": "SuYFVRt2qrRf"
   },
   "source": [
    "## 简要计算输出(以batchsize为1/16为例）\n"
   ]
  },
  {
   "cell_type": "code",
   "execution_count": null,
   "metadata": {
    "id": "Hr5kENpFqmW7"
   },
   "outputs": [],
   "source": [
    "for idx, (x, y_true) in enumerate(trainLoader):\n",
    "    x = x.cuda()   #送到gpu运算，不支持的地方直接都去掉.cuda\n",
    "    y_true = y_true.cuda()\n",
    "    \n",
    "    y_pred = model(x)\n",
    "    break"
   ]
  },
  {
   "cell_type": "code",
   "execution_count": null,
   "metadata": {
    "colab": {
     "base_uri": "https://localhost:8080/"
    },
    "executionInfo": {
     "elapsed": 4,
     "status": "ok",
     "timestamp": 1685410427759,
     "user": {
      "displayName": "Aria C",
      "userId": "13309219771091978768"
     },
     "user_tz": -480
    },
    "id": "9NhJLeOkyz5e",
    "outputId": "d3e4fd23-07b0-4beb-dd78-c24ccf669a3f"
   },
   "outputs": [
    {
     "data": {
      "text/plain": [
       "tensor([[ 0.4713, -0.6542, -0.2054, -0.2334,  0.0895, -0.2284, -0.4724,  0.6554,\n",
       "         -0.9911, -0.5837,  0.0051,  0.0864, -0.4417],\n",
       "        [-0.1907, -0.1855,  0.6592, -0.2507, -0.2376, -0.7378, -0.1716,  0.5137,\n",
       "          0.2722, -0.5990,  0.0676, -0.2598, -0.7852],\n",
       "        [ 0.4471, -0.5283, -0.3235,  0.1370, -0.6171, -0.4412, -0.7511, -0.3067,\n",
       "         -0.2215, -0.6668,  0.1784, -0.3373, -0.3256],\n",
       "        [ 0.2679, -0.2113, -0.2772, -0.5590, -0.2443,  0.3095, -0.3910, -0.1844,\n",
       "         -1.2417, -0.9430,  0.3154,  0.0963,  0.3062],\n",
       "        [ 0.4202, -0.0961,  0.3287, -0.9934,  0.0907, -0.6623, -0.4384,  0.2709,\n",
       "          0.4218, -0.3980,  0.5830, -0.3055,  0.9802],\n",
       "        [ 0.1980, -0.6188,  0.0382, -0.0823, -0.5207, -0.3141, -0.2844,  0.4564,\n",
       "         -0.5634, -0.1547,  0.0365,  0.0837,  0.0540],\n",
       "        [ 0.2611, -0.1595, -0.4610,  0.5369, -0.2346, -0.7615, -0.2864,  0.8781,\n",
       "         -0.4919, -0.6155,  0.1437, -0.4712, -0.2508],\n",
       "        [-0.0160, -0.2101,  0.2655, -0.2254, -0.6090, -0.1194, -0.6778,  0.4713,\n",
       "         -0.5008, -0.3107, -0.1122,  0.1099, -0.2099],\n",
       "        [ 0.0920, -0.9198,  0.3419, -0.6644,  0.1771, -0.3681, -1.0283,  0.6028,\n",
       "         -0.5439, -0.1781,  0.3646, -0.1028,  0.2793],\n",
       "        [-0.1395,  0.1772,  0.4087, -0.4706, -0.4321, -0.2984, -0.6105,  0.7812,\n",
       "         -0.7938, -1.2633,  0.0817, -0.3610,  0.5437],\n",
       "        [ 0.1746, -0.1880,  0.3104, -0.4849, -0.3280, -0.6732, -0.5854,  0.0096,\n",
       "         -0.1137, -0.5879, -0.1218, -0.3858, -0.7602],\n",
       "        [ 0.1993,  0.4875,  0.0481, -0.4916, -0.5069, -0.6336, -0.8178, -0.4067,\n",
       "         -0.5846, -0.0792,  0.4798, -0.5444, -0.3794],\n",
       "        [ 0.0898, -0.3093,  0.2279, -0.4885,  0.2902, -0.8070, -0.6647,  0.4096,\n",
       "         -0.4306, -0.3561,  0.2631,  0.4760,  0.1271],\n",
       "        [-0.3200, -0.5145,  0.4289,  0.1778, -0.1161, -0.5322, -0.7401,  0.1163,\n",
       "         -0.3118, -0.6710,  0.6144,  0.5932,  0.6436],\n",
       "        [ 0.1989, -0.4895,  0.2984,  0.0054,  0.0312, -0.3891, -0.4232,  0.4494,\n",
       "         -0.2702, -0.7610,  0.1754,  0.2735, -0.1672],\n",
       "        [ 0.2797, -0.6231, -0.1749, -0.3651,  0.0430, -0.1699, -0.7372, -0.2720,\n",
       "         -0.2593,  0.0390,  0.9469, -0.1204, -0.0196]], device='cuda:0',\n",
       "       grad_fn=<AddmmBackward0>)"
      ]
     },
     "execution_count": 26,
     "metadata": {},
     "output_type": "execute_result"
    }
   ],
   "source": [
    "y_pred"
   ]
  },
  {
   "cell_type": "code",
   "execution_count": null,
   "metadata": {
    "colab": {
     "base_uri": "https://localhost:8080/"
    },
    "executionInfo": {
     "elapsed": 391,
     "status": "ok",
     "timestamp": 1685410430730,
     "user": {
      "displayName": "Aria C",
      "userId": "13309219771091978768"
     },
     "user_tz": -480
    },
    "id": "0NhOiiZEy8nl",
    "outputId": "09ee4330-d510-4adb-8ada-edfaff931366"
   },
   "outputs": [
    {
     "name": "stdout",
     "output_type": "stream",
     "text": [
      "tensor(7, device='cuda:0')\n",
      "tensor(2, device='cuda:0')\n",
      "tensor(0, device='cuda:0')\n",
      "tensor(10, device='cuda:0')\n",
      "tensor(12, device='cuda:0')\n",
      "tensor(7, device='cuda:0')\n",
      "tensor(7, device='cuda:0')\n",
      "tensor(7, device='cuda:0')\n",
      "tensor(7, device='cuda:0')\n",
      "tensor(7, device='cuda:0')\n",
      "tensor(2, device='cuda:0')\n",
      "tensor(1, device='cuda:0')\n",
      "tensor(11, device='cuda:0')\n",
      "tensor(12, device='cuda:0')\n",
      "tensor(7, device='cuda:0')\n",
      "tensor(10, device='cuda:0')\n"
     ]
    }
   ],
   "source": [
    "for i in range(batchsize):\n",
    "  print(y_pred[i].argmax())\n",
    "\n",
    "#batch size为1时最终的预测是类别1\n",
    "#当batchsize大于1时，这里是所有列表里最大的那个 其实有问题  但不影响\n",
    "#大白兔解决了这个问题，用for和print"
   ]
  },
  {
   "cell_type": "code",
   "execution_count": null,
   "metadata": {
    "colab": {
     "base_uri": "https://localhost:8080/"
    },
    "executionInfo": {
     "elapsed": 567,
     "status": "ok",
     "timestamp": 1685410435924,
     "user": {
      "displayName": "Aria C",
      "userId": "13309219771091978768"
     },
     "user_tz": -480
    },
    "id": "wF3J38qbzA_F",
    "outputId": "f4fdebfd-0888-437f-d6a9-0210a6d48050"
   },
   "outputs": [
    {
     "data": {
      "text/plain": [
       "tensor([ 6,  3,  7,  9, 12,  5,  9,  4,  8,  5,  2,  1,  1,  0,  4,  3],\n",
       "       device='cuda:0')"
      ]
     },
     "execution_count": 28,
     "metadata": {},
     "output_type": "execute_result"
    }
   ],
   "source": [
    "y_true\n",
    "\n",
    "##batch size为1时，实际上y真正的结果是0，准确率是后面需要解决的问题"
   ]
  },
  {
   "cell_type": "markdown",
   "metadata": {
    "id": "TFM1R66QzDvm"
   },
   "source": [
    "# 训练准备"
   ]
  },
  {
   "cell_type": "code",
   "execution_count": null,
   "metadata": {
    "id": "B_Djs3IzzJXw"
   },
   "outputs": [],
   "source": [
    "# 计算准确率\n",
    "def accuracy(y_pred, y_true):\n",
    "    batch_size = y_true.size(0)\n",
    "    pred = y_pred.argmax(axis=1)\n",
    "    correct = pred.eq(y_true)\n",
    "    return correct.sum() / batch_size * 100    #得到一个百分比"
   ]
  },
  {
   "cell_type": "code",
   "execution_count": null,
   "metadata": {
    "id": "_cfrQB86zLp-"
   },
   "outputs": [],
   "source": [
    "# 计分器\n",
    "class AverageMeter(object):\n",
    "    def __init__(self):\n",
    "        self.value = 0\n",
    "        self.avg = 0\n",
    "        self.sum = 0\n",
    "        self.count = 0\n",
    "    def update(self, val, n):\n",
    "        self.value = val\n",
    "        self.sum += val * n\n",
    "        self.count += n\n",
    "        self.avg = self.sum / self.count"
   ]
  },
  {
   "cell_type": "code",
   "execution_count": null,
   "metadata": {
    "id": "Ef4jIU0RzN9I"
   },
   "outputs": [],
   "source": [
    "# epoch 把一个训练集从头到尾过一遍叫做一个epoch，这是一个训练的过程\n",
    "def train():\n",
    "    #需要记住的有loss和accuracy\n",
    "    losses = AverageMeter()\n",
    "    accs = AverageMeter()\n",
    "\n",
    "    # 加载数据，送入gpu\n",
    "    for i, (x, y_true) in enumerate(trainLoader):\n",
    "        x = x.cuda()\n",
    "        y_true = y_true.cuda()\n",
    "\n",
    "        # 计算结果\n",
    "        y_pred = model(x)\n",
    "        \n",
    "        # 计算loss和acc\n",
    "        loss = criterion(y_pred, y_true)\n",
    "        acc = accuracy(y_pred, y_true)\n",
    "        #print(y_pred)\n",
    "        #print(y_true)\n",
    "        \n",
    "        # 更新权重\n",
    "        optimizer.zero_grad()\n",
    "        loss.backward()\n",
    "        optimizer.step()\n",
    "        \n",
    "        losses.update(loss.item(), y_true.size(0))\n",
    "        accs.update(acc.item(), y_true.size(0))\n",
    "    \n",
    "    return losses, accs\n",
    "\n",
    "#val和train最大的区别在于，val没有更新权重的过程\n",
    "\n",
    "def val():\n",
    "    model.eval()\n",
    "    #剩下的差不多\n",
    "    losses = AverageMeter()\n",
    "    accs = AverageMeter()\n",
    "    \n",
    "    #with no grad就是不更新权重的意思\n",
    "    with torch.no_grad():\n",
    "        for i, (x, y_true) in enumerate(valLoader): #trainloader要改成valloader\n",
    "            x = x.cuda()\n",
    "            y_true = y_true.cuda()\n",
    "            # 计算结果\n",
    "            y_pred = model(x)\n",
    "\n",
    "            # 计算loss和acc\n",
    "            loss = criterion(y_pred, y_true)\n",
    "            acc = accuracy(y_pred, y_true)\n",
    "            losses.update(loss.item(), y_true.size(0))\n",
    "            accs.update(acc.item(), y_true.size(0))\n",
    "    return losses, accs"
   ]
  },
  {
   "cell_type": "code",
   "execution_count": null,
   "metadata": {
    "id": "7573qYOZzP9l"
   },
   "outputs": [],
   "source": [
    "losses, accs = train()"
   ]
  },
  {
   "cell_type": "code",
   "execution_count": null,
   "metadata": {
    "colab": {
     "base_uri": "https://localhost:8080/",
     "height": 35
    },
    "executionInfo": {
     "elapsed": 605,
     "status": "ok",
     "timestamp": 1684933377498,
     "user": {
      "displayName": "Aria C",
      "userId": "13309219771091978768"
     },
     "user_tz": -480
    },
    "id": "frr8m_JBGM_t",
    "outputId": "a56252db-9e9e-4cd1-fa2c-0ee818ed3ac0"
   },
   "outputs": [
    {
     "data": {
      "application/vnd.google.colaboratory.intrinsic+json": {
       "type": "string"
      },
      "text/plain": [
       "'#train szie是0.8时 训练一次的结果\\nlosses.avg, accs.avg'"
      ]
     },
     "execution_count": 33,
     "metadata": {},
     "output_type": "execute_result"
    }
   ],
   "source": [
    "'''#train szie是0.8时 训练一次的结果\n",
    "losses.avg, accs.avg'''"
   ]
  },
  {
   "cell_type": "code",
   "execution_count": null,
   "metadata": {
    "colab": {
     "base_uri": "https://localhost:8080/"
    },
    "executionInfo": {
     "elapsed": 384,
     "status": "ok",
     "timestamp": 1685412215824,
     "user": {
      "displayName": "Aria C",
      "userId": "13309219771091978768"
     },
     "user_tz": -480
    },
    "id": "UoTxF-9MzSuX",
    "outputId": "e37b1351-26e7-4841-92fc-0ae7c084f4a8"
   },
   "outputs": [
    {
     "data": {
      "text/plain": [
       "(1.6324984641341656, 45.87315379589356)"
      ]
     },
     "execution_count": 33,
     "metadata": {},
     "output_type": "execute_result"
    }
   ],
   "source": [
    "#train size是0.7时 训练一次的结果\n",
    "losses.avg, accs.avg"
   ]
  },
  {
   "cell_type": "markdown",
   "metadata": {
    "id": "8zHiWSGHzolu"
   },
   "source": [
    "# 模型训练"
   ]
  },
  {
   "cell_type": "code",
   "execution_count": null,
   "metadata": {
    "colab": {
     "base_uri": "https://localhost:8080/"
    },
    "executionInfo": {
     "elapsed": 1805892,
     "status": "ok",
     "timestamp": 1684860412570,
     "user": {
      "displayName": "Aria C",
      "userId": "13309219771091978768"
     },
     "user_tz": -480
    },
    "id": "mQ3MC217zn-4",
    "outputId": "7abc6eed-235c-4eb9-9458-deae5b6a1f3d"
   },
   "outputs": [
    {
     "name": "stdout",
     "output_type": "stream",
     "text": [
      "Epoch: 1|30, Training Loss: 0.9643, Val Loss: 1.0075, Training Acc: 68.8359, Val Acc: 67.3993\n",
      "Epoch: 2|30, Training Loss: 1.2187, Val Loss: 1.3541, Training Acc: 58.4785, Val Acc: 59.7070\n",
      "Epoch: 3|30, Training Loss: 0.9018, Val Loss: 1.2687, Training Acc: 69.2942, Val Acc: 56.4103\n",
      "Epoch: 4|30, Training Loss: 0.6492, Val Loss: 1.3179, Training Acc: 77.9560, Val Acc: 64.8352\n",
      "Epoch: 5|30, Training Loss: 0.5490, Val Loss: 1.3171, Training Acc: 80.8891, Val Acc: 61.5385\n",
      "Epoch: 6|30, Training Loss: 0.3961, Val Loss: 1.3971, Training Acc: 86.1137, Val Acc: 58.6081\n",
      "Epoch: 7|30, Training Loss: 0.3068, Val Loss: 1.6382, Training Acc: 89.4592, Val Acc: 60.8059\n",
      "Epoch: 8|30, Training Loss: 0.3183, Val Loss: 1.2121, Training Acc: 89.2759, Val Acc: 64.1026\n",
      "Epoch: 9|30, Training Loss: 0.1677, Val Loss: 1.3007, Training Acc: 94.2713, Val Acc: 66.3004\n",
      "Epoch: 10|30, Training Loss: 0.1434, Val Loss: 1.3905, Training Acc: 95.4170, Val Acc: 67.3993\n",
      "Epoch: 11|30, Training Loss: 0.1801, Val Loss: 1.4011, Training Acc: 93.6755, Val Acc: 67.7656\n",
      "Epoch: 12|30, Training Loss: 0.0933, Val Loss: 1.7078, Training Acc: 97.3877, Val Acc: 68.1319\n",
      "Epoch: 13|30, Training Loss: 0.0868, Val Loss: 1.3382, Training Acc: 97.1127, Val Acc: 69.2308\n",
      "Epoch: 14|30, Training Loss: 0.0767, Val Loss: 1.3757, Training Acc: 97.7544, Val Acc: 67.0330\n",
      "Epoch: 15|30, Training Loss: 0.0523, Val Loss: 1.6586, Training Acc: 98.3043, Val Acc: 69.9634\n",
      "Epoch: 16|30, Training Loss: 0.1068, Val Loss: 1.5396, Training Acc: 96.6544, Val Acc: 65.9341\n",
      "Epoch: 17|30, Training Loss: 0.1125, Val Loss: 1.4500, Training Acc: 96.7461, Val Acc: 69.9634\n",
      "Epoch: 18|30, Training Loss: 0.0683, Val Loss: 1.5977, Training Acc: 97.7544, Val Acc: 69.9634\n",
      "Epoch: 19|30, Training Loss: 0.0519, Val Loss: 1.5163, Training Acc: 98.0293, Val Acc: 66.6667\n",
      "Epoch: 20|30, Training Loss: 0.0816, Val Loss: 1.3849, Training Acc: 97.5252, Val Acc: 69.9634\n",
      "Epoch: 21|30, Training Loss: 0.0245, Val Loss: 1.7244, Training Acc: 99.2667, Val Acc: 68.8645\n",
      "Epoch: 22|30, Training Loss: 0.0186, Val Loss: 1.8402, Training Acc: 99.3584, Val Acc: 68.4982\n",
      "Epoch: 23|30, Training Loss: 0.0245, Val Loss: 1.4750, Training Acc: 99.3584, Val Acc: 72.5275\n",
      "Epoch: 24|30, Training Loss: 0.0052, Val Loss: 1.4608, Training Acc: 99.8167, Val Acc: 72.1612\n",
      "Epoch: 25|30, Training Loss: 0.0020, Val Loss: 1.5102, Training Acc: 99.9542, Val Acc: 72.8938\n",
      "Epoch: 26|30, Training Loss: 0.0030, Val Loss: 1.4741, Training Acc: 99.9083, Val Acc: 71.7949\n",
      "Epoch: 27|30, Training Loss: 0.0009, Val Loss: 1.6223, Training Acc: 99.9542, Val Acc: 71.4286\n",
      "Epoch: 28|30, Training Loss: 0.0004, Val Loss: 1.5408, Training Acc: 100.0000, Val Acc: 72.5275\n",
      "Epoch: 29|30, Training Loss: 0.0001, Val Loss: 1.5675, Training Acc: 100.0000, Val Acc: 73.2601\n",
      "Epoch: 30|30, Training Loss: 0.0001, Val Loss: 1.5846, Training Acc: 100.0000, Val Acc: 72.5275\n"
     ]
    }
   ],
   "source": [
    "'''#保存下来表现最好的一个，至于是loss最少还是acc最高的可以自己定\n",
    "\n",
    "acc_max = 0\n",
    "for epoch in range(30):  #训练30遍\n",
    "    # 训练\n",
    "    trainLosses, trainAccs = train()\n",
    "    # 验证\n",
    "    valLosses, valAccs = val()\n",
    "    print(\"Epoch: {}|30, Training Loss: {:.4f}, Val Loss: {:.4f}, Training Acc: {:.4f}, Val Acc: {:.4f}\".format(epoch+1, trainLosses.avg, valLosses.avg, trainAccs.avg, valAccs.avg))\n",
    "    #{:.4f}表示只取4位小数\n",
    "\n",
    "    # 保存模型\n",
    "    if valAccs.avg > acc_max:\n",
    "        acc_max = valAccs.avg\n",
    "        \n",
    "        save_dict = {\n",
    "            'epoch': epoch + 1,\n",
    "            'state_dict': model.state_dict(),\n",
    "            'optimizer': optimizer.state_dict()\n",
    "        }\n",
    "        torch.save(save_dict, 'best_checkpoint10.pth.tar')'''"
   ]
  },
  {
   "cell_type": "code",
   "execution_count": null,
   "metadata": {
    "colab": {
     "base_uri": "https://localhost:8080/"
    },
    "executionInfo": {
     "elapsed": 4449483,
     "status": "ok",
     "timestamp": 1685416679290,
     "user": {
      "displayName": "Aria C",
      "userId": "13309219771091978768"
     },
     "user_tz": -480
    },
    "id": "YYaHlS3bglKs",
    "outputId": "bf6cd1a6-c80a-475c-b23a-7c49dea05384"
   },
   "outputs": [
    {
     "name": "stdout",
     "output_type": "stream",
     "text": [
      "Epoch: 1|50, Training Loss: 0.8636, Val Loss: 0.8722, Training Acc: 71.6478, Val Acc: 71.0648\n",
      "Epoch: 2|50, Training Loss: 1.3809, Val Loss: 1.4028, Training Acc: 53.5187, Val Acc: 54.6296\n",
      "Epoch: 3|50, Training Loss: 0.9225, Val Loss: 1.0842, Training Acc: 67.5644, Val Acc: 62.7315\n",
      "Epoch: 4|50, Training Loss: 0.6933, Val Loss: 1.1106, Training Acc: 75.8760, Val Acc: 65.7407\n",
      "Epoch: 5|50, Training Loss: 0.5608, Val Loss: 1.1727, Training Acc: 80.1911, Val Acc: 65.7407\n",
      "Epoch: 6|50, Training Loss: 0.3978, Val Loss: 1.2659, Training Acc: 86.1280, Val Acc: 66.4352\n",
      "Epoch: 7|50, Training Loss: 0.3120, Val Loss: 1.0707, Training Acc: 89.7191, Val Acc: 69.6759\n",
      "Epoch: 8|50, Training Loss: 0.2621, Val Loss: 1.0269, Training Acc: 90.9644, Val Acc: 68.5185\n",
      "Epoch: 9|50, Training Loss: 0.1776, Val Loss: 1.1321, Training Acc: 93.8025, Val Acc: 72.2222\n",
      "Epoch: 10|50, Training Loss: 0.1455, Val Loss: 1.2779, Training Acc: 95.1926, Val Acc: 69.4444\n",
      "Epoch: 11|50, Training Loss: 0.1225, Val Loss: 1.4769, Training Acc: 95.8008, Val Acc: 68.0556\n",
      "Epoch: 12|50, Training Loss: 0.1579, Val Loss: 1.2565, Training Acc: 94.8161, Val Acc: 68.0556\n",
      "Epoch: 13|50, Training Loss: 0.0760, Val Loss: 1.5819, Training Acc: 97.6832, Val Acc: 66.6667\n",
      "Epoch: 14|50, Training Loss: 0.0631, Val Loss: 1.5129, Training Acc: 98.0597, Val Acc: 67.3611\n",
      "Epoch: 15|50, Training Loss: 0.1026, Val Loss: 1.3913, Training Acc: 96.4668, Val Acc: 67.5926\n",
      "Epoch: 16|50, Training Loss: 0.0435, Val Loss: 1.3270, Training Acc: 98.5809, Val Acc: 72.2222\n",
      "Epoch: 17|50, Training Loss: 0.0171, Val Loss: 1.5329, Training Acc: 99.4498, Val Acc: 72.2222\n",
      "Epoch: 18|50, Training Loss: 0.0113, Val Loss: 1.4821, Training Acc: 99.6525, Val Acc: 73.1481\n",
      "Epoch: 19|50, Training Loss: 0.0082, Val Loss: 1.2707, Training Acc: 99.7394, Val Acc: 75.2315\n",
      "Epoch: 20|50, Training Loss: 0.0098, Val Loss: 1.3081, Training Acc: 99.6235, Val Acc: 75.9259\n",
      "Epoch: 21|50, Training Loss: 0.0047, Val Loss: 1.3238, Training Acc: 99.7683, Val Acc: 75.6944\n",
      "Epoch: 22|50, Training Loss: 0.0040, Val Loss: 1.3811, Training Acc: 99.7973, Val Acc: 75.0000\n",
      "Epoch: 23|50, Training Loss: 0.0035, Val Loss: 1.3379, Training Acc: 99.8552, Val Acc: 76.1574\n",
      "Epoch: 24|50, Training Loss: 0.0027, Val Loss: 1.3923, Training Acc: 99.8552, Val Acc: 75.4630\n",
      "Epoch: 25|50, Training Loss: 0.0027, Val Loss: 1.3935, Training Acc: 99.8262, Val Acc: 76.1574\n",
      "Epoch: 26|50, Training Loss: 0.0027, Val Loss: 1.4147, Training Acc: 99.8262, Val Acc: 75.4630\n",
      "Epoch: 27|50, Training Loss: 0.0024, Val Loss: 1.4070, Training Acc: 99.8552, Val Acc: 76.6204\n",
      "Epoch: 28|50, Training Loss: 0.0025, Val Loss: 1.4529, Training Acc: 99.8262, Val Acc: 75.2315\n",
      "Epoch: 29|50, Training Loss: 0.0025, Val Loss: 1.4425, Training Acc: 99.7973, Val Acc: 76.3889\n",
      "Epoch: 30|50, Training Loss: 0.0023, Val Loss: 1.4525, Training Acc: 99.8842, Val Acc: 76.1574\n",
      "Epoch: 31|50, Training Loss: 0.0022, Val Loss: 1.4725, Training Acc: 99.7973, Val Acc: 75.9259\n",
      "Epoch: 32|50, Training Loss: 0.0023, Val Loss: 1.4624, Training Acc: 99.8552, Val Acc: 75.9259\n",
      "Epoch: 33|50, Training Loss: 0.0023, Val Loss: 1.4773, Training Acc: 99.8552, Val Acc: 75.9259\n",
      "Epoch: 34|50, Training Loss: 0.0022, Val Loss: 1.4955, Training Acc: 99.8552, Val Acc: 75.6944\n",
      "Epoch: 35|50, Training Loss: 0.0024, Val Loss: 1.5005, Training Acc: 99.7973, Val Acc: 76.1574\n",
      "Epoch: 36|50, Training Loss: 0.0022, Val Loss: 1.4991, Training Acc: 99.7973, Val Acc: 76.3889\n",
      "Epoch: 37|50, Training Loss: 0.0022, Val Loss: 1.5054, Training Acc: 99.7973, Val Acc: 75.9259\n",
      "Epoch: 38|50, Training Loss: 0.0021, Val Loss: 1.5301, Training Acc: 99.8552, Val Acc: 75.6944\n",
      "Epoch: 39|50, Training Loss: 0.0020, Val Loss: 1.5127, Training Acc: 99.8552, Val Acc: 75.4630\n",
      "Epoch: 40|50, Training Loss: 0.0020, Val Loss: 1.5238, Training Acc: 99.8262, Val Acc: 76.6204\n",
      "Epoch: 41|50, Training Loss: 0.0021, Val Loss: 1.5132, Training Acc: 99.8552, Val Acc: 76.3889\n",
      "Epoch: 42|50, Training Loss: 0.0020, Val Loss: 1.5403, Training Acc: 99.8842, Val Acc: 76.3889\n",
      "Epoch: 43|50, Training Loss: 0.0019, Val Loss: 1.5252, Training Acc: 99.8552, Val Acc: 76.3889\n",
      "Epoch: 44|50, Training Loss: 0.0020, Val Loss: 1.5403, Training Acc: 99.8552, Val Acc: 75.9259\n",
      "Epoch: 45|50, Training Loss: 0.0019, Val Loss: 1.5372, Training Acc: 99.8842, Val Acc: 76.1574\n",
      "Epoch: 46|50, Training Loss: 0.0019, Val Loss: 1.5612, Training Acc: 99.8552, Val Acc: 76.6204\n",
      "Epoch: 47|50, Training Loss: 0.0016, Val Loss: 1.5827, Training Acc: 99.8842, Val Acc: 75.6944\n",
      "Epoch: 48|50, Training Loss: 0.0019, Val Loss: 1.5631, Training Acc: 99.8842, Val Acc: 75.6944\n",
      "Epoch: 49|50, Training Loss: 0.0018, Val Loss: 1.5784, Training Acc: 99.8842, Val Acc: 76.8519\n",
      "Epoch: 50|50, Training Loss: 0.0018, Val Loss: 1.5789, Training Acc: 99.8552, Val Acc: 76.1574\n"
     ]
    }
   ],
   "source": [
    "#保存下来所有的\n",
    "\n",
    "for epoch in range(50):  #训练30遍\n",
    "    # 训练\n",
    "    trainLosses, trainAccs = train()\n",
    "    # 验证\n",
    "    valLosses, valAccs = val()\n",
    "    print(\"Epoch: {}|50, Training Loss: {:.4f}, Val Loss: {:.4f}, Training Acc: {:.4f}, Val Acc: {:.4f}\".format(epoch+1, trainLosses.avg, valLosses.avg, trainAccs.avg, valAccs.avg))\n",
    "    #{:.4f}表示只取4位小数\n",
    "\n",
    "    # 保存模型\n",
    "    save_dict = {'epoch': epoch + 1,\n",
    "            'state_dict': model.state_dict(),\n",
    "            'optimizer': optimizer.state_dict()\n",
    "        }\n",
    "    torch.save(save_dict, 'best_checkpoint5311_50_{}.pth.tar'.format(epoch+1))\n",
    "\n",
    "  #Epoch: 26|30, Training Loss: 0.0028, Val Loss: 1.4213, Training Acc: 99.8818, Val Acc: 75.1773"
   ]
  },
  {
   "cell_type": "code",
   "execution_count": null,
   "metadata": {
    "colab": {
     "base_uri": "https://localhost:8080/"
    },
    "executionInfo": {
     "elapsed": 2562262,
     "status": "ok",
     "timestamp": 1685419377858,
     "user": {
      "displayName": "Aria C",
      "userId": "13309219771091978768"
     },
     "user_tz": -480
    },
    "id": "STZkRHgZqhoV",
    "outputId": "93ec9430-9126-42ec-f037-bdd7a28ee492"
   },
   "outputs": [
    {
     "name": "stdout",
     "output_type": "stream",
     "text": [
      "Epoch: 1|80, Training Loss: 0.0016, Val Loss: 1.5841, Training Acc: 99.8842, Val Acc: 76.3889\n",
      "Epoch: 2|80, Training Loss: 0.0017, Val Loss: 1.6011, Training Acc: 99.8842, Val Acc: 75.9259\n",
      "Epoch: 3|80, Training Loss: 0.0017, Val Loss: 1.6039, Training Acc: 99.8842, Val Acc: 75.6944\n",
      "Epoch: 4|80, Training Loss: 0.0018, Val Loss: 1.5880, Training Acc: 99.8552, Val Acc: 76.3889\n",
      "Epoch: 5|80, Training Loss: 0.0017, Val Loss: 1.5902, Training Acc: 99.8552, Val Acc: 76.1574\n",
      "Epoch: 6|80, Training Loss: 0.0017, Val Loss: 1.6032, Training Acc: 99.8552, Val Acc: 75.9259\n",
      "Epoch: 7|80, Training Loss: 0.0018, Val Loss: 1.6021, Training Acc: 99.8262, Val Acc: 76.1574\n",
      "Epoch: 8|80, Training Loss: 0.0016, Val Loss: 1.6158, Training Acc: 99.8552, Val Acc: 76.1574\n",
      "Epoch: 9|80, Training Loss: 0.0016, Val Loss: 1.6181, Training Acc: 99.8842, Val Acc: 76.1574\n",
      "Epoch: 10|80, Training Loss: 0.0017, Val Loss: 1.6227, Training Acc: 99.9131, Val Acc: 76.1574\n",
      "Epoch: 11|80, Training Loss: 0.0017, Val Loss: 1.6258, Training Acc: 99.8552, Val Acc: 75.9259\n",
      "Epoch: 12|80, Training Loss: 0.0015, Val Loss: 1.6388, Training Acc: 99.8842, Val Acc: 76.1574\n",
      "Epoch: 13|80, Training Loss: 0.0017, Val Loss: 1.6379, Training Acc: 99.8552, Val Acc: 75.9259\n",
      "Epoch: 14|80, Training Loss: 0.0016, Val Loss: 1.6291, Training Acc: 99.8552, Val Acc: 75.9259\n",
      "Epoch: 15|80, Training Loss: 0.0017, Val Loss: 1.6366, Training Acc: 99.8552, Val Acc: 75.9259\n",
      "Epoch: 16|80, Training Loss: 0.0016, Val Loss: 1.6504, Training Acc: 99.9131, Val Acc: 75.6944\n",
      "Epoch: 17|80, Training Loss: 0.0016, Val Loss: 1.6490, Training Acc: 99.8842, Val Acc: 76.1574\n",
      "Epoch: 18|80, Training Loss: 0.0016, Val Loss: 1.6420, Training Acc: 99.8842, Val Acc: 76.1574\n",
      "Epoch: 19|80, Training Loss: 0.0016, Val Loss: 1.6381, Training Acc: 99.8842, Val Acc: 76.1574\n",
      "Epoch: 20|80, Training Loss: 0.0016, Val Loss: 1.6519, Training Acc: 99.8552, Val Acc: 75.9259\n",
      "Epoch: 21|80, Training Loss: 0.0017, Val Loss: 1.6588, Training Acc: 99.8552, Val Acc: 75.9259\n",
      "Epoch: 22|80, Training Loss: 0.0016, Val Loss: 1.6512, Training Acc: 99.8552, Val Acc: 76.3889\n",
      "Epoch: 23|80, Training Loss: 0.0016, Val Loss: 1.6743, Training Acc: 99.8262, Val Acc: 75.2315\n",
      "Epoch: 24|80, Training Loss: 0.0015, Val Loss: 1.6650, Training Acc: 99.9131, Val Acc: 75.9259\n",
      "Epoch: 25|80, Training Loss: 0.0016, Val Loss: 1.6572, Training Acc: 99.8842, Val Acc: 75.9259\n",
      "Epoch: 26|80, Training Loss: 0.0015, Val Loss: 1.6711, Training Acc: 99.8552, Val Acc: 75.9259\n",
      "Epoch: 27|80, Training Loss: 0.0016, Val Loss: 1.6674, Training Acc: 99.8842, Val Acc: 75.9259\n",
      "Epoch: 28|80, Training Loss: 0.0016, Val Loss: 1.6787, Training Acc: 99.8842, Val Acc: 75.6944\n",
      "Epoch: 29|80, Training Loss: 0.0016, Val Loss: 1.6761, Training Acc: 99.8262, Val Acc: 76.1574\n",
      "Epoch: 30|80, Training Loss: 0.0015, Val Loss: 1.6760, Training Acc: 99.8842, Val Acc: 76.1574\n"
     ]
    }
   ],
   "source": [
    "for epoch in range(30):  #再训练30遍\n",
    "    # 训练\n",
    "    trainLosses, trainAccs = train()\n",
    "    # 验证\n",
    "    valLosses, valAccs = val()\n",
    "    print(\"Epoch: {}|80, Training Loss: {:.4f}, Val Loss: {:.4f}, Training Acc: {:.4f}, Val Acc: {:.4f}\".format(epoch+1, trainLosses.avg, valLosses.avg, trainAccs.avg, valAccs.avg))\n",
    "    #{:.4f}表示只取4位小数\n",
    "\n",
    "    # 保存模型\n",
    "    save_dict = {'epoch': epoch + 51,\n",
    "            'state_dict': model.state_dict(),\n",
    "            'optimizer': optimizer.state_dict()\n",
    "        }\n",
    "    torch.save(save_dict, 'best_checkpoint5311_80_{}.pth.tar'.format(epoch+1))"
   ]
  }
 ],
 "metadata": {
  "accelerator": "GPU",
  "colab": {
   "gpuType": "T4",
   "provenance": []
  },
  "kernelspec": {
   "display_name": "Python 3 (ipykernel)",
   "language": "python",
   "name": "python3"
  },
  "language_info": {
   "codemirror_mode": {
    "name": "ipython",
    "version": 3
   },
   "file_extension": ".py",
   "mimetype": "text/x-python",
   "name": "python",
   "nbconvert_exporter": "python",
   "pygments_lexer": "ipython3",
   "version": "3.8.15"
  }
 },
 "nbformat": 4,
 "nbformat_minor": 1
}
